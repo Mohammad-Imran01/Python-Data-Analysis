{
 "cells": [
  {
   "cell_type": "code",
   "execution_count": 2,
   "id": "a29b142c",
   "metadata": {},
   "outputs": [
    {
     "name": "stdout",
     "output_type": "stream",
     "text": [
      "Using matplotlib backend: Qt5Agg\n"
     ]
    }
   ],
   "source": [
    "%matplotlib\n"
   ]
  },
  {
   "cell_type": "code",
   "execution_count": 4,
   "id": "09b02e1c",
   "metadata": {},
   "outputs": [],
   "source": [
    "??matplotlib"
   ]
  },
  {
   "cell_type": "code",
   "execution_count": 5,
   "id": "101ab8dc",
   "metadata": {},
   "outputs": [
    {
     "ename": "NameError",
     "evalue": "name 'ipython' is not defined",
     "output_type": "error",
     "traceback": [
      "\u001b[1;31m---------------------------------------------------------------------------\u001b[0m",
      "\u001b[1;31mNameError\u001b[0m                                 Traceback (most recent call last)",
      "\u001b[1;32m<ipython-input-5-0c8359920307>\u001b[0m in \u001b[0;36m<module>\u001b[1;34m\u001b[0m\n\u001b[1;32m----> 1\u001b[1;33m \u001b[0mipython\u001b[0m\u001b[1;33m\u001b[0m\u001b[1;33m\u001b[0m\u001b[0m\n\u001b[0m",
      "\u001b[1;31mNameError\u001b[0m: name 'ipython' is not defined"
     ]
    }
   ],
   "source": [
    "ipython"
   ]
  },
  {
   "cell_type": "code",
   "execution_count": 6,
   "id": "108f6da7",
   "metadata": {},
   "outputs": [],
   "source": [
    "%matplotlib inline"
   ]
  },
  {
   "cell_type": "code",
   "execution_count": 11,
   "id": "5ba83567",
   "metadata": {},
   "outputs": [
    {
     "ename": "SyntaxError",
     "evalue": "invalid syntax (<ipython-input-11-9518c71f87df>, line 2)",
     "output_type": "error",
     "traceback": [
      "\u001b[1;36m  File \u001b[1;32m\"<ipython-input-11-9518c71f87df>\"\u001b[1;36m, line \u001b[1;32m2\u001b[0m\n\u001b[1;33m    print(??matplotlib)\u001b[0m\n\u001b[1;37m          ^\u001b[0m\n\u001b[1;31mSyntaxError\u001b[0m\u001b[1;31m:\u001b[0m invalid syntax\n"
     ]
    }
   ],
   "source": [
    "import matplotlib\n",
    "print(??matplotlib)"
   ]
  },
  {
   "cell_type": "code",
   "execution_count": 15,
   "id": "a3df4758",
   "metadata": {},
   "outputs": [],
   "source": [
    "def adder(z,x,y):\n",
    "    z = x+y\n",
    "    return z\n"
   ]
  },
  {
   "cell_type": "code",
   "execution_count": 16,
   "id": "6f8ce34a",
   "metadata": {},
   "outputs": [
    {
     "data": {
      "text/plain": [
       "2"
      ]
     },
     "execution_count": 16,
     "metadata": {},
     "output_type": "execute_result"
    }
   ],
   "source": [
    "z = 23\n",
    "adder(z,1,1)"
   ]
  },
  {
   "cell_type": "code",
   "execution_count": 17,
   "id": "ccfcde51",
   "metadata": {},
   "outputs": [
    {
     "data": {
      "text/plain": [
       "23"
      ]
     },
     "execution_count": 17,
     "metadata": {},
     "output_type": "execute_result"
    }
   ],
   "source": [
    "z"
   ]
  },
  {
   "cell_type": "code",
   "execution_count": 18,
   "id": "bf9bb1e3",
   "metadata": {},
   "outputs": [
    {
     "data": {
      "text/plain": [
       "23"
      ]
     },
     "execution_count": 18,
     "metadata": {},
     "output_type": "execute_result"
    }
   ],
   "source": [
    "z"
   ]
  },
  {
   "cell_type": "code",
   "execution_count": 20,
   "id": "3fea1db2",
   "metadata": {},
   "outputs": [
    {
     "data": {
      "text/plain": [
       "2"
      ]
     },
     "execution_count": 20,
     "metadata": {},
     "output_type": "execute_result"
    }
   ],
   "source": [
    "adder(1,1,1)"
   ]
  },
  {
   "cell_type": "code",
   "execution_count": 31,
   "id": "c2ba1446",
   "metadata": {},
   "outputs": [
    {
     "name": "stdout",
     "output_type": "stream",
     "text": [
      "a->10+19 is z = 10000000000000000000\n"
     ]
    }
   ],
   "source": [
    "a = 10\n",
    "b=19\n",
    "print('a->{0}+{1} is z = {2}'.format(a,b,(a**b)))"
   ]
  },
  {
   "cell_type": "code",
   "execution_count": 32,
   "id": "81e7ce56",
   "metadata": {},
   "outputs": [],
   "source": [
    "a = 5"
   ]
  },
  {
   "cell_type": "code",
   "execution_count": 33,
   "id": "fa2db5c1",
   "metadata": {},
   "outputs": [
    {
     "data": {
      "text/plain": [
       "5"
      ]
     },
     "execution_count": 33,
     "metadata": {},
     "output_type": "execute_result"
    }
   ],
   "source": [
    "a"
   ]
  },
  {
   "cell_type": "code",
   "execution_count": 34,
   "id": "e352fe9c",
   "metadata": {},
   "outputs": [
    {
     "data": {
      "text/plain": [
       "int"
      ]
     },
     "execution_count": 34,
     "metadata": {},
     "output_type": "execute_result"
    }
   ],
   "source": [
    "type(a)"
   ]
  },
  {
   "cell_type": "code",
   "execution_count": 37,
   "id": "157dd186",
   "metadata": {},
   "outputs": [
    {
     "data": {
      "text/plain": [
       "True"
      ]
     },
     "execution_count": 37,
     "metadata": {},
     "output_type": "execute_result"
    }
   ],
   "source": [
    "isinstance(a,int)"
   ]
  },
  {
   "cell_type": "code",
   "execution_count": 52,
   "id": "32da302c",
   "metadata": {},
   "outputs": [
    {
     "data": {
      "text/plain": [
       "'foo'"
      ]
     },
     "execution_count": 52,
     "metadata": {},
     "output_type": "execute_result"
    }
   ],
   "source": [
    "a = 'foo'\n",
    "a.translate('aaaaaaaaaaaao')"
   ]
  },
  {
   "cell_type": "code",
   "execution_count": 55,
   "id": "18bcf679",
   "metadata": {},
   "outputs": [
    {
     "ename": "SyntaxError",
     "evalue": "invalid syntax (<ipython-input-55-073c0587d7a2>, line 1)",
     "output_type": "error",
     "traceback": [
      "\u001b[1;36m  File \u001b[1;32m\"<ipython-input-55-073c0587d7a2>\"\u001b[1;36m, line \u001b[1;32m1\u001b[0m\n\u001b[1;33m    obj.a:\u001b[0m\n\u001b[1;37m          ^\u001b[0m\n\u001b[1;31mSyntaxError\u001b[0m\u001b[1;31m:\u001b[0m invalid syntax\n"
     ]
    }
   ],
   "source": []
  },
  {
   "cell_type": "code",
   "execution_count": 61,
   "id": "e5f83b67",
   "metadata": {},
   "outputs": [
    {
     "data": {
      "text/plain": [
       "<function str.split(sep=None, maxsplit=-1)>"
      ]
     },
     "execution_count": 61,
     "metadata": {},
     "output_type": "execute_result"
    }
   ],
   "source": [
    "getattr(a,'split')"
   ]
  },
  {
   "cell_type": "code",
   "execution_count": 64,
   "id": "0624d916",
   "metadata": {},
   "outputs": [],
   "source": [
    "def isiterable(obj):\n",
    "    try:\n",
    "        iter(obj)\n",
    "        return True\n",
    "    except TypeError:\n",
    "        return false"
   ]
  },
  {
   "cell_type": "code",
   "execution_count": 79,
   "id": "5cdc3f31",
   "metadata": {},
   "outputs": [],
   "source": [
    "if not isinstance(a,list) and isiterable(a):\n",
    "    a = list(a)\n",
    "    a= float(a)"
   ]
  },
  {
   "cell_type": "code",
   "execution_count": 80,
   "id": "7532b561",
   "metadata": {},
   "outputs": [
    {
     "data": {
      "text/plain": [
       "list"
      ]
     },
     "execution_count": 80,
     "metadata": {},
     "output_type": "execute_result"
    }
   ],
   "source": [
    "type(a)"
   ]
  },
  {
   "cell_type": "code",
   "execution_count": 81,
   "id": "b6e5cd77",
   "metadata": {},
   "outputs": [],
   "source": [
    "a = 0\n",
    "b = 9"
   ]
  },
  {
   "cell_type": "code",
   "execution_count": 87,
   "id": "ebd3b7cd",
   "metadata": {},
   "outputs": [
    {
     "data": {
      "text/plain": [
       "True"
      ]
     },
     "execution_count": 87,
     "metadata": {},
     "output_type": "execute_result"
    }
   ],
   "source": [
    "a is b-9"
   ]
  },
  {
   "cell_type": "code",
   "execution_count": 88,
   "id": "f67192df",
   "metadata": {},
   "outputs": [
    {
     "data": {
      "text/plain": [
       "False"
      ]
     },
     "execution_count": 88,
     "metadata": {},
     "output_type": "execute_result"
    }
   ],
   "source": [
    "a == b"
   ]
  },
  {
   "cell_type": "code",
   "execution_count": 89,
   "id": "12fa1004",
   "metadata": {},
   "outputs": [
    {
     "ename": "SyntaxError",
     "evalue": "invalid syntax (<ipython-input-89-bdfc4d9d5291>, line 1)",
     "output_type": "error",
     "traceback": [
      "\u001b[1;36m  File \u001b[1;32m\"<ipython-input-89-bdfc4d9d5291>\"\u001b[1;36m, line \u001b[1;32m1\u001b[0m\n\u001b[1;33m    Exclusive-or\u001b[0m\n\u001b[1;37m              ^\u001b[0m\n\u001b[1;31mSyntaxError\u001b[0m\u001b[1;31m:\u001b[0m invalid syntax\n"
     ]
    }
   ],
   "source": [
    "Exclusive-or"
   ]
  },
  {
   "cell_type": "code",
   "execution_count": 100,
   "id": "db22f3bd",
   "metadata": {},
   "outputs": [
    {
     "data": {
      "text/plain": [
       "b'\\x00\\x00'"
      ]
     },
     "execution_count": 100,
     "metadata": {},
     "output_type": "execute_result"
    }
   ],
   "source": [
    "bytes(2)"
   ]
  },
  {
   "cell_type": "code",
   "execution_count": 106,
   "id": "d9f3985b",
   "metadata": {},
   "outputs": [],
   "source": [
    "ival = 17239871\n",
    "z = ival**10000"
   ]
  },
  {
   "cell_type": "code",
   "execution_count": 109,
   "id": "6bafc254",
   "metadata": {
    "scrolled": true
   },
   "outputs": [
    {
     "ename": "TypeError",
     "evalue": "isinstance expected 2 arguments, got 1",
     "output_type": "error",
     "traceback": [
      "\u001b[1;31m---------------------------------------------------------------------------\u001b[0m",
      "\u001b[1;31mTypeError\u001b[0m                                 Traceback (most recent call last)",
      "\u001b[1;32m<ipython-input-109-4f14d8246bcd>\u001b[0m in \u001b[0;36m<module>\u001b[1;34m\u001b[0m\n\u001b[1;32m----> 1\u001b[1;33m \u001b[0misinstance\u001b[0m\u001b[1;33m(\u001b[0m\u001b[0mz\u001b[0m\u001b[1;33m)\u001b[0m\u001b[1;33m\u001b[0m\u001b[1;33m\u001b[0m\u001b[0m\n\u001b[0m",
      "\u001b[1;31mTypeError\u001b[0m: isinstance expected 2 arguments, got 1"
     ]
    }
   ],
   "source": [
    "isinstance(z)"
   ]
  },
  {
   "cell_type": "code",
   "execution_count": 1,
   "id": "a109ca51",
   "metadata": {},
   "outputs": [],
   "source": [
    "grades  =  (11, 22, 33, 44, 55, 66, 77, 88, 99, 111, 222, 333, 444)"
   ]
  },
  {
   "cell_type": "code",
   "execution_count": 9,
   "id": "6466e55f",
   "metadata": {},
   "outputs": [],
   "source": [
    "def drop_first_last(grades):\n",
    "    first,*middle,last = grades\n",
    "    return sum(middle)//len(grades)"
   ]
  },
  {
   "cell_type": "code",
   "execution_count": 10,
   "id": "07bedb69",
   "metadata": {},
   "outputs": [
    {
     "data": {
      "text/plain": [
       "88"
      ]
     },
     "execution_count": 10,
     "metadata": {},
     "output_type": "execute_result"
    }
   ],
   "source": [
    "drop_first_last(grades)"
   ]
  },
  {
   "cell_type": "code",
   "execution_count": 14,
   "id": "270149ee",
   "metadata": {},
   "outputs": [],
   "source": [
    "record = ('Dave','ihaveaccount@gmail.com',87633688,948738477,8478487)\n",
    "name,e_mail,*phone_no = record"
   ]
  },
  {
   "cell_type": "code",
   "execution_count": 15,
   "id": "b6d53d7d",
   "metadata": {
    "scrolled": true
   },
   "outputs": [
    {
     "data": {
      "text/plain": [
       "'Dave'"
      ]
     },
     "execution_count": 15,
     "metadata": {},
     "output_type": "execute_result"
    }
   ],
   "source": [
    "name"
   ]
  },
  {
   "cell_type": "code",
   "execution_count": 17,
   "id": "a9554975",
   "metadata": {},
   "outputs": [
    {
     "data": {
      "text/plain": [
       "'ihaveaccount@gmail.com'"
      ]
     },
     "execution_count": 17,
     "metadata": {},
     "output_type": "execute_result"
    }
   ],
   "source": [
    "e_mail"
   ]
  },
  {
   "cell_type": "code",
   "execution_count": 20,
   "id": "ab74f07a",
   "metadata": {},
   "outputs": [],
   "source": [
    "a,*num = phone_no"
   ]
  },
  {
   "cell_type": "code",
   "execution_count": 28,
   "id": "a1964d83",
   "metadata": {},
   "outputs": [],
   "source": [
    "sales = [2,3,1,3,4]\n",
    "def saler(x):\n",
    "    *recent,last = x\n",
    "    return sum(recent)//len(recent)"
   ]
  },
  {
   "cell_type": "code",
   "execution_count": 29,
   "id": "b560f982",
   "metadata": {},
   "outputs": [
    {
     "data": {
      "text/plain": [
       "2"
      ]
     },
     "execution_count": 29,
     "metadata": {},
     "output_type": "execute_result"
    }
   ],
   "source": [
    "saler(sales)"
   ]
  },
  {
   "cell_type": "code",
   "execution_count": 34,
   "id": "5f33868a",
   "metadata": {},
   "outputs": [],
   "source": [
    "*trailing, current = [10, 8, 7, 1, 9, 5, 10, 3]"
   ]
  },
  {
   "cell_type": "code",
   "execution_count": 41,
   "id": "e659e5a5",
   "metadata": {},
   "outputs": [
    {
     "data": {
      "text/plain": [
       "[10, 8]"
      ]
     },
     "execution_count": 41,
     "metadata": {},
     "output_type": "execute_result"
    }
   ],
   "source": [
    "trailing[0:-5:1]"
   ]
  },
  {
   "cell_type": "code",
   "execution_count": 42,
   "id": "ef47f279",
   "metadata": {},
   "outputs": [
    {
     "name": "stdout",
     "output_type": "stream",
     "text": [
      "1\n",
      "2\n",
      "3\n"
     ]
    }
   ],
   "source": [
    "x = (1,2,3)\n",
    "for x in x:\n",
    "    print(x)"
   ]
  },
  {
   "cell_type": "code",
   "execution_count": 3,
   "id": "931b00f6",
   "metadata": {},
   "outputs": [],
   "source": [
    "import numpy as np"
   ]
  },
  {
   "cell_type": "code",
   "execution_count": 4,
   "id": "9b761af9",
   "metadata": {},
   "outputs": [],
   "source": [
    "np.*load*?"
   ]
  },
  {
   "cell_type": "code",
   "execution_count": 7,
   "id": "25cd07a1",
   "metadata": {},
   "outputs": [
    {
     "name": "stdout",
     "output_type": "stream",
     "text": [
      "Not found\n"
     ]
    }
   ],
   "source": [
    "\n",
    "try:\n",
    "    %run welcome.py\n",
    "except:\n",
    "    print('Not found')"
   ]
  },
  {
   "cell_type": "code",
   "execution_count": 9,
   "id": "a56517fe",
   "metadata": {},
   "outputs": [
    {
     "data": {
      "text/plain": [
       "['C:\\\\Users\\\\HP\\\\anaconda3\\\\lib\\\\site-packages\\\\ipykernel_launcher.py',\n",
       " '-f',\n",
       " 'C:\\\\Users\\\\HP\\\\AppData\\\\Roaming\\\\jupyter\\\\runtime\\\\kernel-4d4a2513-8e1f-44af-a06c-f3e4745d72a3.json']"
      ]
     },
     "execution_count": 9,
     "metadata": {},
     "output_type": "execute_result"
    }
   ],
   "source": [
    "\n",
    "import sys\n",
    "sys.argv"
   ]
  },
  {
   "cell_type": "code",
   "execution_count": 12,
   "id": "5555a11c",
   "metadata": {},
   "outputs": [
    {
     "name": "stderr",
     "output_type": "stream",
     "text": [
      "UsageError: Line magic function `%cpaste` not found.\n"
     ]
    }
   ],
   "source": [
    "%cpaste"
   ]
  },
  {
   "cell_type": "code",
   "execution_count": null,
   "id": "aa59f476",
   "metadata": {},
   "outputs": [],
   "source": []
  }
 ],
 "metadata": {
  "kernelspec": {
   "display_name": "Python 3",
   "language": "python",
   "name": "python3"
  },
  "language_info": {
   "codemirror_mode": {
    "name": "ipython",
    "version": 3
   },
   "file_extension": ".py",
   "mimetype": "text/x-python",
   "name": "python",
   "nbconvert_exporter": "python",
   "pygments_lexer": "ipython3",
   "version": "3.8.8"
  }
 },
 "nbformat": 4,
 "nbformat_minor": 5
}
