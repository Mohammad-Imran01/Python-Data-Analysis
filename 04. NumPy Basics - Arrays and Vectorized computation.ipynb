{
 "cells": [
  {
   "cell_type": "code",
   "execution_count": 1,
   "id": "27599311",
   "metadata": {},
   "outputs": [],
   "source": [
    "import numpy as np"
   ]
  },
  {
   "cell_type": "code",
   "execution_count": 3,
   "id": "bebf2d22",
   "metadata": {},
   "outputs": [],
   "source": [
    "my_arr = np.arange(1000000)\n",
    "my_list = list(range(1000000))"
   ]
  },
  {
   "cell_type": "code",
   "execution_count": 4,
   "id": "5a19dc5e",
   "metadata": {},
   "outputs": [
    {
     "name": "stdout",
     "output_type": "stream",
     "text": [
      "Wall time: 34.8 ms\n"
     ]
    }
   ],
   "source": [
    "%time for x in range(10): my_arr2 = my_arr * 2\n",
    "    "
   ]
  },
  {
   "cell_type": "code",
   "execution_count": 5,
   "id": "3ff52b66",
   "metadata": {},
   "outputs": [
    {
     "name": "stdout",
     "output_type": "stream",
     "text": [
      "Wall time: 1.33 s\n"
     ]
    }
   ],
   "source": [
    "%time for x in range(10): my_list2 = [x * 2 for x in my_list]"
   ]
  },
  {
   "cell_type": "code",
   "execution_count": 36,
   "id": "5111ca8b",
   "metadata": {},
   "outputs": [],
   "source": [
    "import numpy as np\n",
    "\n",
    "array = np.random.randn(2,3)"
   ]
  },
  {
   "cell_type": "code",
   "execution_count": 37,
   "id": "39305d9e",
   "metadata": {},
   "outputs": [
    {
     "data": {
      "text/plain": [
       "array([[-12.3945644 ,   0.73519546,   1.91629974],\n",
       "       [ -5.11538421, -11.45940876,  -1.20905916]])"
      ]
     },
     "execution_count": 37,
     "metadata": {},
     "output_type": "execute_result"
    }
   ],
   "source": [
    "array * 10"
   ]
  },
  {
   "cell_type": "code",
   "execution_count": 38,
   "id": "25f63a52",
   "metadata": {},
   "outputs": [
    {
     "data": {
      "text/plain": [
       "array([[-2.47891288,  0.14703909,  0.38325995],\n",
       "       [-1.02307684, -2.29188175, -0.24181183]])"
      ]
     },
     "execution_count": 38,
     "metadata": {},
     "output_type": "execute_result"
    }
   ],
   "source": [
    "array + array"
   ]
  },
  {
   "cell_type": "code",
   "execution_count": 39,
   "id": "3a75ba76",
   "metadata": {},
   "outputs": [],
   "source": [
    "import numpy as np \n"
   ]
  },
  {
   "cell_type": "code",
   "execution_count": 40,
   "id": "66ad5182",
   "metadata": {},
   "outputs": [
    {
     "data": {
      "text/plain": [
       "(2, 3)"
      ]
     },
     "execution_count": 40,
     "metadata": {},
     "output_type": "execute_result"
    }
   ],
   "source": [
    "array.shape"
   ]
  },
  {
   "cell_type": "code",
   "execution_count": 41,
   "id": "62024ff0",
   "metadata": {},
   "outputs": [
    {
     "data": {
      "text/plain": [
       "array([[-1.23945644,  0.07351955,  0.19162997],\n",
       "       [-0.51153842, -1.14594088, -0.12090592]])"
      ]
     },
     "execution_count": 41,
     "metadata": {},
     "output_type": "execute_result"
    }
   ],
   "source": [
    "array"
   ]
  },
  {
   "cell_type": "code",
   "execution_count": 42,
   "id": "8eed1586",
   "metadata": {},
   "outputs": [],
   "source": [
    "data1 = [6, 7.5, 8, 0, 1]"
   ]
  },
  {
   "cell_type": "code",
   "execution_count": 43,
   "id": "9a3845e1",
   "metadata": {},
   "outputs": [],
   "source": [
    "arr1 = np.array(data1)"
   ]
  },
  {
   "cell_type": "code",
   "execution_count": 44,
   "id": "578e3927",
   "metadata": {},
   "outputs": [
    {
     "data": {
      "text/plain": [
       "array([6. , 7.5, 8. , 0. , 1. ])"
      ]
     },
     "execution_count": 44,
     "metadata": {},
     "output_type": "execute_result"
    }
   ],
   "source": [
    "arr1"
   ]
  },
  {
   "cell_type": "code",
   "execution_count": 48,
   "id": "b3fa7e56",
   "metadata": {},
   "outputs": [],
   "source": [
    "data2 = [[1, 2, 3, 4, 5], [6, 7, 8, 9, 10]]"
   ]
  },
  {
   "cell_type": "code",
   "execution_count": 49,
   "id": "4aef22e8",
   "metadata": {},
   "outputs": [],
   "source": [
    "arr2 = np.array(data2)"
   ]
  },
  {
   "cell_type": "code",
   "execution_count": 51,
   "id": "270ba8b3",
   "metadata": {},
   "outputs": [
    {
     "data": {
      "text/plain": [
       "array([[ 1,  2,  3,  4,  5],\n",
       "       [ 6,  7,  8,  9, 10]])"
      ]
     },
     "execution_count": 51,
     "metadata": {},
     "output_type": "execute_result"
    }
   ],
   "source": [
    "arr2"
   ]
  },
  {
   "cell_type": "code",
   "execution_count": 52,
   "id": "214b48e9",
   "metadata": {},
   "outputs": [
    {
     "data": {
      "text/plain": [
       "2"
      ]
     },
     "execution_count": 52,
     "metadata": {},
     "output_type": "execute_result"
    }
   ],
   "source": [
    "arr2.ndim"
   ]
  },
  {
   "cell_type": "code",
   "execution_count": 53,
   "id": "d107726b",
   "metadata": {},
   "outputs": [
    {
     "data": {
      "text/plain": [
       "(2, 5)"
      ]
     },
     "execution_count": 53,
     "metadata": {},
     "output_type": "execute_result"
    }
   ],
   "source": [
    "arr2.shape"
   ]
  },
  {
   "cell_type": "code",
   "execution_count": 54,
   "id": "25f62c45",
   "metadata": {},
   "outputs": [
    {
     "data": {
      "text/plain": [
       "dtype('float64')"
      ]
     },
     "execution_count": 54,
     "metadata": {},
     "output_type": "execute_result"
    }
   ],
   "source": [
    "arr1.dtype"
   ]
  },
  {
   "cell_type": "code",
   "execution_count": 55,
   "id": "f965a52b",
   "metadata": {},
   "outputs": [
    {
     "data": {
      "text/plain": [
       "dtype('int32')"
      ]
     },
     "execution_count": 55,
     "metadata": {},
     "output_type": "execute_result"
    }
   ],
   "source": [
    "arr2.dtype"
   ]
  },
  {
   "cell_type": "code",
   "execution_count": 63,
   "id": "2cac1909",
   "metadata": {},
   "outputs": [
    {
     "data": {
      "text/plain": [
       "array([[-1.23945644,  0.07351955,  0.19162997],\n",
       "       [-0.51153842, -1.14594088, -0.12090592]])"
      ]
     },
     "execution_count": 63,
     "metadata": {},
     "output_type": "execute_result"
    }
   ],
   "source": [
    "np.zeros(10)"
   ]
  },
  {
   "cell_type": "code",
   "execution_count": 70,
   "id": "859a1963",
   "metadata": {},
   "outputs": [
    {
     "data": {
      "text/plain": [
       "array([[0., 0., 0., 0., 0., 0.],\n",
       "       [0., 0., 0., 0., 0., 0.],\n",
       "       [0., 0., 0., 0., 0., 0.]])"
      ]
     },
     "execution_count": 70,
     "metadata": {},
     "output_type": "execute_result"
    }
   ],
   "source": [
    "np.empty((3,6))"
   ]
  },
  {
   "cell_type": "code",
   "execution_count": 71,
   "id": "fbb8b9ca",
   "metadata": {},
   "outputs": [
    {
     "data": {
      "text/plain": [
       "array([0, 1, 2, 3, 4])"
      ]
     },
     "execution_count": 71,
     "metadata": {},
     "output_type": "execute_result"
    }
   ],
   "source": [
    "np.arange(5)"
   ]
  },
  {
   "cell_type": "code",
   "execution_count": 11,
   "id": "0a502cf0",
   "metadata": {},
   "outputs": [],
   "source": [
    "import numpy as np\n",
    "my_arr = np.arange(1000000)\n",
    "my_list = list(my_arr)"
   ]
  },
  {
   "cell_type": "code",
   "execution_count": 19,
   "id": "3c87b874",
   "metadata": {},
   "outputs": [
    {
     "name": "stderr",
     "output_type": "stream",
     "text": [
      "UsageError: Line magic function `%space` not found.\n"
     ]
    }
   ],
   "source": [
    "%space for _ in range(10):my_arr2 = my_arr *2"
   ]
  },
  {
   "cell_type": "code",
   "execution_count": 20,
   "id": "f196a972",
   "metadata": {},
   "outputs": [],
   "source": [
    "data  = np.random.randn(2,3)"
   ]
  },
  {
   "cell_type": "code",
   "execution_count": 21,
   "id": "6092e213",
   "metadata": {},
   "outputs": [
    {
     "data": {
      "text/plain": [
       "array([[-0.04673733, -1.78387571, -1.22008701],\n",
       "       [-0.44535414,  2.12586665, -0.31005275]])"
      ]
     },
     "execution_count": 21,
     "metadata": {},
     "output_type": "execute_result"
    }
   ],
   "source": [
    "data"
   ]
  },
  {
   "cell_type": "code",
   "execution_count": 28,
   "id": "2a6b7d3b",
   "metadata": {},
   "outputs": [
    {
     "data": {
      "text/plain": [
       "array([[[1., 1., 1.],\n",
       "        [1., 1., 1.],\n",
       "        [1., 1., 1.]],\n",
       "\n",
       "       [[1., 1., 1.],\n",
       "        [1., 1., 1.],\n",
       "        [1., 1., 1.]],\n",
       "\n",
       "       [[1., 1., 1.],\n",
       "        [1., 1., 1.],\n",
       "        [1., 1., 1.]]])"
      ]
     },
     "execution_count": 28,
     "metadata": {},
     "output_type": "execute_result"
    }
   ],
   "source": [
    "np.ones((3,3,3))"
   ]
  },
  {
   "cell_type": "code",
   "execution_count": 36,
   "id": "6d28b961",
   "metadata": {},
   "outputs": [],
   "source": [
    "arr1 = np.array([1, 2, 3], dtype=np.int64)\n"
   ]
  },
  {
   "cell_type": "code",
   "execution_count": 37,
   "id": "0b791ec7",
   "metadata": {},
   "outputs": [
    {
     "data": {
      "text/plain": [
       "array([1, 2, 3], dtype=int64)"
      ]
     },
     "execution_count": 37,
     "metadata": {},
     "output_type": "execute_result"
    }
   ],
   "source": [
    "arr1"
   ]
  },
  {
   "cell_type": "code",
   "execution_count": 40,
   "id": "4c939798",
   "metadata": {},
   "outputs": [
    {
     "data": {
      "text/plain": [
       "dtype('int64')"
      ]
     },
     "execution_count": 40,
     "metadata": {},
     "output_type": "execute_result"
    }
   ],
   "source": [
    "arr1.dtype"
   ]
  },
  {
   "cell_type": "code",
   "execution_count": 42,
   "id": "db9608a8",
   "metadata": {},
   "outputs": [],
   "source": [
    "arr = np.array([1, 2, 3])"
   ]
  },
  {
   "cell_type": "code",
   "execution_count": 43,
   "id": "2e709656",
   "metadata": {},
   "outputs": [
    {
     "data": {
      "text/plain": [
       "dtype('int32')"
      ]
     },
     "execution_count": 43,
     "metadata": {},
     "output_type": "execute_result"
    }
   ],
   "source": [
    "arr.dtype"
   ]
  },
  {
   "cell_type": "code",
   "execution_count": 53,
   "id": "e6334a0a",
   "metadata": {},
   "outputs": [],
   "source": [
    "float_ar = arr.astype(np.float64)"
   ]
  },
  {
   "cell_type": "code",
   "execution_count": 54,
   "id": "d2c3107d",
   "metadata": {},
   "outputs": [
    {
     "data": {
      "text/plain": [
       "array([1., 2., 3.])"
      ]
     },
     "execution_count": 54,
     "metadata": {},
     "output_type": "execute_result"
    }
   ],
   "source": [
    "float_ar"
   ]
  },
  {
   "cell_type": "code",
   "execution_count": 55,
   "id": "91e95aa6",
   "metadata": {},
   "outputs": [],
   "source": [
    "fl_ar = arr.astype(np.float64)"
   ]
  },
  {
   "cell_type": "code",
   "execution_count": 56,
   "id": "06e8ec81",
   "metadata": {},
   "outputs": [],
   "source": [
    "int_array = np.arange(10)"
   ]
  },
  {
   "cell_type": "code",
   "execution_count": 60,
   "id": "c61d6a32",
   "metadata": {},
   "outputs": [],
   "source": [
    "int_array\n",
    "calibers = np.array([.22, .270, .357, .380, .44, .55], dtype=np.float64)"
   ]
  },
  {
   "cell_type": "code",
   "execution_count": 62,
   "id": "9ce12908",
   "metadata": {},
   "outputs": [
    {
     "data": {
      "text/plain": [
       "array([0.22 , 0.27 , 0.357, 0.38 , 0.44 , 0.5  ])"
      ]
     },
     "execution_count": 62,
     "metadata": {},
     "output_type": "execute_result"
    }
   ],
   "source": [
    "calibers"
   ]
  },
  {
   "cell_type": "code",
   "execution_count": 82,
   "id": "b737a862",
   "metadata": {},
   "outputs": [],
   "source": [
    "x = int_array.astype(calibers.dtype)"
   ]
  },
  {
   "cell_type": "code",
   "execution_count": 87,
   "id": "e9327fc0",
   "metadata": {},
   "outputs": [
    {
     "data": {
      "text/plain": [
       "array([[    1,     4,    27],\n",
       "       [  256,  3125, 46656]], dtype=int32)"
      ]
     },
     "execution_count": 87,
     "metadata": {},
     "output_type": "execute_result"
    }
   ],
   "source": [
    "x = np.array([[1, 2, 3],[4, 5, 6]],dtype=int)\n",
    "x = x ** x\n",
    "x"
   ]
  },
  {
   "cell_type": "code",
   "execution_count": 88,
   "id": "43a308ea",
   "metadata": {},
   "outputs": [
    {
     "data": {
      "text/plain": [
       "array([[    1,     4,    27],\n",
       "       [  256,  3125, 46656]], dtype=int32)"
      ]
     },
     "execution_count": 88,
     "metadata": {},
     "output_type": "execute_result"
    }
   ],
   "source": [
    "x"
   ]
  },
  {
   "cell_type": "code",
   "execution_count": 108,
   "id": "d5391510",
   "metadata": {},
   "outputs": [],
   "source": [
    "x = np.array([[1,2,3],[4,5,6]],dtype=float)"
   ]
  },
  {
   "cell_type": "code",
   "execution_count": 109,
   "id": "1d591d0d",
   "metadata": {},
   "outputs": [
    {
     "data": {
      "text/plain": [
       "array([[1.        , 0.5       , 0.33333333],\n",
       "       [0.25      , 0.2       , 0.16666667]])"
      ]
     },
     "execution_count": 109,
     "metadata": {},
     "output_type": "execute_result"
    }
   ],
   "source": [
    "1/x"
   ]
  },
  {
   "cell_type": "code",
   "execution_count": 110,
   "id": "a9a7b6ff",
   "metadata": {},
   "outputs": [
    {
     "data": {
      "text/plain": [
       "array([[False, False, False],\n",
       "       [False, False, False]])"
      ]
     },
     "execution_count": 110,
     "metadata": {},
     "output_type": "execute_result"
    }
   ],
   "source": [
    "1/x>x"
   ]
  },
  {
   "cell_type": "code",
   "execution_count": null,
   "id": "190e478e",
   "metadata": {},
   "outputs": [],
   "source": [
    "#Arrays are important because they enable \n",
    "you to express batch operations on data\n",
    "without writing any for loops. \n",
    "NumPy users call this vectorization. \n",
    "Any arithmetic\n",
    "operations between equal-size arrays \n",
    "applies the operation element-wise"
   ]
  },
  {
   "cell_type": "code",
   "execution_count": null,
   "id": "edd32c89",
   "metadata": {},
   "outputs": [],
   "source": [
    "#Operations between differently sized arrays \n",
    "#is called broadcasting"
   ]
  },
  {
   "cell_type": "code",
   "execution_count": 111,
   "id": "93e3aae3",
   "metadata": {},
   "outputs": [],
   "source": [
    "arr = np.arange(10)"
   ]
  },
  {
   "cell_type": "code",
   "execution_count": 112,
   "id": "b22fc56b",
   "metadata": {},
   "outputs": [
    {
     "data": {
      "text/plain": [
       "array([0, 1, 2, 3, 4, 5, 6, 7, 8, 9])"
      ]
     },
     "execution_count": 112,
     "metadata": {},
     "output_type": "execute_result"
    }
   ],
   "source": [
    "arr"
   ]
  },
  {
   "cell_type": "code",
   "execution_count": 113,
   "id": "b5a00a20",
   "metadata": {},
   "outputs": [
    {
     "data": {
      "text/plain": [
       "5"
      ]
     },
     "execution_count": 113,
     "metadata": {},
     "output_type": "execute_result"
    }
   ],
   "source": [
    "arr[5]"
   ]
  },
  {
   "cell_type": "code",
   "execution_count": 114,
   "id": "ec0d778f",
   "metadata": {},
   "outputs": [
    {
     "data": {
      "text/plain": [
       "0"
      ]
     },
     "execution_count": 114,
     "metadata": {},
     "output_type": "execute_result"
    }
   ],
   "source": [
    "arr[0]"
   ]
  },
  {
   "cell_type": "code",
   "execution_count": 119,
   "id": "79aa5308",
   "metadata": {},
   "outputs": [],
   "source": [
    "arr[0:5:2] = 22"
   ]
  },
  {
   "cell_type": "code",
   "execution_count": 138,
   "id": "373fb2be",
   "metadata": {},
   "outputs": [],
   "source": [
    "arr_slice = arr[0:2].copy()"
   ]
  },
  {
   "cell_type": "code",
   "execution_count": 140,
   "id": "04ec4e81",
   "metadata": {},
   "outputs": [],
   "source": [
    "arr_slice[-1] = -1"
   ]
  },
  {
   "cell_type": "code",
   "execution_count": 141,
   "id": "adeafff7",
   "metadata": {},
   "outputs": [
    {
     "data": {
      "text/plain": [
       "array([-1, -1, 22,  3, 22,  5,  6,  7,  8,  9])"
      ]
     },
     "execution_count": 141,
     "metadata": {},
     "output_type": "execute_result"
    }
   ],
   "source": [
    "arr"
   ]
  },
  {
   "cell_type": "code",
   "execution_count": 142,
   "id": "b4565745",
   "metadata": {},
   "outputs": [],
   "source": [
    "arr2d = np.array([[1, 2, 3], [4, 5, 6], [7, 8, 9]])"
   ]
  },
  {
   "cell_type": "code",
   "execution_count": 153,
   "id": "a97f3b24",
   "metadata": {},
   "outputs": [
    {
     "data": {
      "text/plain": [
       "array([[7, 8, 9]])"
      ]
     },
     "execution_count": 153,
     "metadata": {},
     "output_type": "execute_result"
    }
   ],
   "source": [
    "arr2d[1:][0:][-1:]"
   ]
  },
  {
   "cell_type": "code",
   "execution_count": 179,
   "id": "f7044fc8",
   "metadata": {},
   "outputs": [],
   "source": [
    "arr3d = np.array([[[1, 2, 3],[4, 5, 6]], [[7, 8, 9], [10, 11, 12]]])"
   ]
  },
  {
   "cell_type": "code",
   "execution_count": 180,
   "id": "910bb194",
   "metadata": {},
   "outputs": [
    {
     "data": {
      "text/plain": [
       "10"
      ]
     },
     "execution_count": 180,
     "metadata": {},
     "output_type": "execute_result"
    }
   ],
   "source": [
    "arr3d[1,1,0]"
   ]
  },
  {
   "cell_type": "code",
   "execution_count": 181,
   "id": "6930fb2e",
   "metadata": {},
   "outputs": [],
   "source": [
    "old_values = arr3d[0].copy()"
   ]
  },
  {
   "cell_type": "code",
   "execution_count": 182,
   "id": "cf458db5",
   "metadata": {},
   "outputs": [],
   "source": [
    "old_values[0,0] = -111"
   ]
  },
  {
   "cell_type": "code",
   "execution_count": 183,
   "id": "642d1d11",
   "metadata": {},
   "outputs": [
    {
     "data": {
      "text/plain": [
       "array([[-111,    2,    3],\n",
       "       [   4,    5,    6]])"
      ]
     },
     "execution_count": 183,
     "metadata": {},
     "output_type": "execute_result"
    }
   ],
   "source": [
    "old_values"
   ]
  },
  {
   "cell_type": "code",
   "execution_count": 184,
   "id": "64bf5897",
   "metadata": {},
   "outputs": [],
   "source": [
    "arr3d[0] = 42"
   ]
  },
  {
   "cell_type": "code",
   "execution_count": 185,
   "id": "ec756f43",
   "metadata": {},
   "outputs": [],
   "source": [
    "arr3d[0] = old_values"
   ]
  },
  {
   "cell_type": "code",
   "execution_count": 187,
   "id": "5b6230af",
   "metadata": {},
   "outputs": [
    {
     "data": {
      "text/plain": [
       "array([[[-111,    2,    3],\n",
       "        [   4,    5,    6]],\n",
       "\n",
       "       [[   7,    8,    9],\n",
       "        [  10,   11,   12]]])"
      ]
     },
     "execution_count": 187,
     "metadata": {},
     "output_type": "execute_result"
    }
   ],
   "source": [
    "arr3d[:]"
   ]
  },
  {
   "cell_type": "code",
   "execution_count": 3,
   "id": "ed52a829",
   "metadata": {},
   "outputs": [],
   "source": [
    "arr3d = np.array([[[1,2,3],[4,5,6]],[[11,22,33],[44,55,66]]])"
   ]
  },
  {
   "cell_type": "code",
   "execution_count": 17,
   "id": "4e5668f7",
   "metadata": {},
   "outputs": [
    {
     "data": {
      "text/plain": [
       "55"
      ]
     },
     "execution_count": 17,
     "metadata": {},
     "output_type": "execute_result"
    }
   ],
   "source": [
    "arr3d[1,1,1]"
   ]
  },
  {
   "cell_type": "markdown",
   "id": "f01217dd",
   "metadata": {},
   "source": [
    "arr3d[]"
   ]
  },
  {
   "cell_type": "code",
   "execution_count": 23,
   "id": "d3ff9fa4",
   "metadata": {},
   "outputs": [],
   "source": [
    "hello = arr3d[0][0][0:5]"
   ]
  },
  {
   "cell_type": "code",
   "execution_count": 27,
   "id": "e5c95abe",
   "metadata": {},
   "outputs": [],
   "source": [
    "hello[0] = 999"
   ]
  },
  {
   "cell_type": "code",
   "execution_count": 28,
   "id": "9b4d5dd8",
   "metadata": {},
   "outputs": [
    {
     "data": {
      "text/plain": [
       "array([[[999,   2,   3],\n",
       "        [  4,   5,   6]],\n",
       "\n",
       "       [[ 11,  22,  33],\n",
       "        [ 44,  55,  66]]])"
      ]
     },
     "execution_count": 28,
     "metadata": {},
     "output_type": "execute_result"
    }
   ],
   "source": [
    "arr3d"
   ]
  },
  {
   "cell_type": "code",
   "execution_count": 30,
   "id": "b36347ef",
   "metadata": {},
   "outputs": [],
   "source": [
    "hello = arr3d.copy()"
   ]
  },
  {
   "cell_type": "code",
   "execution_count": 31,
   "id": "3209b82b",
   "metadata": {},
   "outputs": [
    {
     "data": {
      "text/plain": [
       "array([[[999,   2,   3],\n",
       "        [  4,   5,   6]],\n",
       "\n",
       "       [[ 11,  22,  33],\n",
       "        [ 44,  55,  66]]])"
      ]
     },
     "execution_count": 31,
     "metadata": {},
     "output_type": "execute_result"
    }
   ],
   "source": [
    "hello"
   ]
  },
  {
   "cell_type": "code",
   "execution_count": 47,
   "id": "1305b6d4",
   "metadata": {},
   "outputs": [
    {
     "data": {
      "text/plain": [
       "999"
      ]
     },
     "execution_count": 47,
     "metadata": {},
     "output_type": "execute_result"
    }
   ],
   "source": [
    "arr3d[0][0][0]"
   ]
  },
  {
   "cell_type": "code",
   "execution_count": 63,
   "id": "5003c572",
   "metadata": {},
   "outputs": [
    {
     "data": {
      "text/plain": [
       "array([[[ 2,  3]],\n",
       "\n",
       "       [[22, 33]]])"
      ]
     },
     "execution_count": 63,
     "metadata": {},
     "output_type": "execute_result"
    }
   ],
   "source": [
    "arr3d[:2, :1, 1:]"
   ]
  },
  {
   "cell_type": "code",
   "execution_count": 65,
   "id": "0d6e7fff",
   "metadata": {},
   "outputs": [],
   "source": [
    "arr2d = np.array([[1,2,3],[4,5,6]])"
   ]
  },
  {
   "cell_type": "code",
   "execution_count": 69,
   "id": "228b1829",
   "metadata": {},
   "outputs": [
    {
     "data": {
      "text/plain": [
       "array([[1, 2, 3],\n",
       "       [4, 5, 6]])"
      ]
     },
     "execution_count": 69,
     "metadata": {},
     "output_type": "execute_result"
    }
   ],
   "source": [
    "arr2d"
   ]
  },
  {
   "cell_type": "code",
   "execution_count": 79,
   "id": "9bbdc35d",
   "metadata": {},
   "outputs": [
    {
     "data": {
      "text/plain": [
       "array([5, 6])"
      ]
     },
     "execution_count": 79,
     "metadata": {},
     "output_type": "execute_result"
    }
   ],
   "source": [
    "arr2d[1,1:]"
   ]
  },
  {
   "cell_type": "code",
   "execution_count": 85,
   "id": "c50d1b81",
   "metadata": {},
   "outputs": [
    {
     "data": {
      "text/plain": [
       "array([[1, 2, 3],\n",
       "       [4, 5, 6]])"
      ]
     },
     "execution_count": 85,
     "metadata": {},
     "output_type": "execute_result"
    }
   ],
   "source": [
    "arr2d"
   ]
  },
  {
   "cell_type": "code",
   "execution_count": 88,
   "id": "2f25058e",
   "metadata": {},
   "outputs": [
    {
     "data": {
      "text/plain": [
       "array([], shape=(0, 3), dtype=int32)"
      ]
     },
     "execution_count": 88,
     "metadata": {},
     "output_type": "execute_result"
    }
   ],
   "source": [
    "arr2d[:0][0:]"
   ]
  },
  {
   "cell_type": "code",
   "execution_count": 167,
   "id": "df19a3fc",
   "metadata": {},
   "outputs": [],
   "source": [
    "names = np.array(['Bob', 'Joe', 'Will','Bob', 'Will','Joe','Joe'])\n",
    "data = np.random.randn(7,4)"
   ]
  },
  {
   "cell_type": "code",
   "execution_count": 168,
   "id": "9372ac28",
   "metadata": {},
   "outputs": [
    {
     "data": {
      "text/plain": [
       "array([False,  True,  True, False,  True,  True,  True])"
      ]
     },
     "execution_count": 168,
     "metadata": {},
     "output_type": "execute_result"
    }
   ],
   "source": [
    "names != 'Bob'"
   ]
  },
  {
   "cell_type": "code",
   "execution_count": 169,
   "id": "b61e06e3",
   "metadata": {},
   "outputs": [
    {
     "data": {
      "text/plain": [
       "array([[ 1.53129365,  0.27938868,  0.7546948 , -0.06261213],\n",
       "       [ 1.01421475, -0.89680447, -0.26553587,  2.15214975],\n",
       "       [-1.35151365, -1.62723411,  0.96551854, -0.65953582],\n",
       "       [-0.3708256 , -1.05610567, -2.8138431 , -0.76659849]])"
      ]
     },
     "execution_count": 169,
     "metadata": {},
     "output_type": "execute_result"
    }
   ],
   "source": [
    "data[~(names == 'Joe')]"
   ]
  },
  {
   "cell_type": "code",
   "execution_count": 170,
   "id": "25b05348",
   "metadata": {},
   "outputs": [
    {
     "data": {
      "text/plain": [
       "array([[ 1.53129365],\n",
       "       [ 1.01421475],\n",
       "       [-1.35151365],\n",
       "       [-0.3708256 ]])"
      ]
     },
     "execution_count": 170,
     "metadata": {},
     "output_type": "execute_result"
    }
   ],
   "source": [
    "data[~(names == 'Joe'),:1]"
   ]
  },
  {
   "cell_type": "code",
   "execution_count": 171,
   "id": "adabfcc6",
   "metadata": {},
   "outputs": [],
   "source": [
    "cond = names == 'Bob'"
   ]
  },
  {
   "cell_type": "code",
   "execution_count": 172,
   "id": "843195e5",
   "metadata": {},
   "outputs": [
    {
     "data": {
      "text/plain": [
       "array(['Joe', 'Will', 'Will', 'Joe', 'Joe'], dtype='<U4')"
      ]
     },
     "execution_count": 172,
     "metadata": {},
     "output_type": "execute_result"
    }
   ],
   "source": [
    "names[~(names == 'Bob')]"
   ]
  },
  {
   "cell_type": "code",
   "execution_count": 173,
   "id": "022592ab",
   "metadata": {},
   "outputs": [
    {
     "data": {
      "text/plain": [
       "array([[ 0.82251809, -0.2968621 , -0.8836649 ,  0.8988568 ],\n",
       "       [ 1.01421475, -0.89680447, -0.26553587,  2.15214975],\n",
       "       [-0.3708256 , -1.05610567, -2.8138431 , -0.76659849],\n",
       "       [-1.22371823, -0.75828396,  0.31234879, -0.52200364],\n",
       "       [ 0.08596178, -1.12627218,  0.94818025,  0.13452572]])"
      ]
     },
     "execution_count": 173,
     "metadata": {},
     "output_type": "execute_result"
    }
   ],
   "source": [
    "data[~cond]"
   ]
  },
  {
   "cell_type": "code",
   "execution_count": 174,
   "id": "600e3b16",
   "metadata": {},
   "outputs": [],
   "source": [
    "mask = (names == 'Bob') | (names  == 'Will')"
   ]
  },
  {
   "cell_type": "code",
   "execution_count": 175,
   "id": "fef80a32",
   "metadata": {},
   "outputs": [
    {
     "data": {
      "text/plain": [
       "array([[ 1.53129365,  0.27938868,  0.7546948 , -0.06261213],\n",
       "       [ 1.01421475, -0.89680447, -0.26553587,  2.15214975],\n",
       "       [-1.35151365, -1.62723411,  0.96551854, -0.65953582],\n",
       "       [-0.3708256 , -1.05610567, -2.8138431 , -0.76659849]])"
      ]
     },
     "execution_count": 175,
     "metadata": {},
     "output_type": "execute_result"
    }
   ],
   "source": [
    "data[mask]"
   ]
  },
  {
   "cell_type": "code",
   "execution_count": 176,
   "id": "5533f408",
   "metadata": {},
   "outputs": [],
   "source": [
    "data[data < 0 ] = 0"
   ]
  },
  {
   "cell_type": "code",
   "execution_count": 177,
   "id": "9574f13b",
   "metadata": {},
   "outputs": [
    {
     "data": {
      "text/plain": [
       "array([[1.53129365, 0.27938868, 0.7546948 , 0.        ],\n",
       "       [0.82251809, 0.        , 0.        , 0.8988568 ],\n",
       "       [1.01421475, 0.        , 0.        , 2.15214975],\n",
       "       [0.        , 0.        , 0.96551854, 0.        ],\n",
       "       [0.        , 0.        , 0.        , 0.        ],\n",
       "       [0.        , 0.        , 0.31234879, 0.        ],\n",
       "       [0.08596178, 0.        , 0.94818025, 0.13452572]])"
      ]
     },
     "execution_count": 177,
     "metadata": {},
     "output_type": "execute_result"
    }
   ],
   "source": [
    "data"
   ]
  },
  {
   "cell_type": "code",
   "execution_count": 180,
   "id": "be5b550f",
   "metadata": {},
   "outputs": [],
   "source": [
    "data[names != 'Joe'] = 7"
   ]
  },
  {
   "cell_type": "code",
   "execution_count": 181,
   "id": "342f4a89",
   "metadata": {},
   "outputs": [
    {
     "data": {
      "text/plain": [
       "array([[7.        , 7.        , 7.        , 7.        ],\n",
       "       [0.82251809, 0.        , 0.        , 0.8988568 ],\n",
       "       [7.        , 7.        , 7.        , 7.        ],\n",
       "       [7.        , 7.        , 7.        , 7.        ],\n",
       "       [7.        , 7.        , 7.        , 7.        ],\n",
       "       [0.        , 0.        , 0.31234879, 0.        ],\n",
       "       [0.08596178, 0.        , 0.94818025, 0.13452572]])"
      ]
     },
     "execution_count": 181,
     "metadata": {},
     "output_type": "execute_result"
    }
   ],
   "source": [
    "data"
   ]
  },
  {
   "cell_type": "code",
   "execution_count": 197,
   "id": "46c9f978",
   "metadata": {},
   "outputs": [],
   "source": [
    "arr = np.empty((8,4))"
   ]
  },
  {
   "cell_type": "code",
   "execution_count": 200,
   "id": "b7c78f80",
   "metadata": {},
   "outputs": [],
   "source": [
    "\n",
    "for i in range(8):\n",
    "    arr[i] = i"
   ]
  },
  {
   "cell_type": "code",
   "execution_count": 235,
   "id": "6eafd960",
   "metadata": {},
   "outputs": [],
   "source": [
    "arr = np.arange(32).reshape(8, 4)"
   ]
  },
  {
   "cell_type": "code",
   "execution_count": 236,
   "id": "fea821ca",
   "metadata": {},
   "outputs": [
    {
     "data": {
      "text/plain": [
       "array([[ 0,  1,  2,  3],\n",
       "       [ 4,  5,  6,  7],\n",
       "       [ 8,  9, 10, 11],\n",
       "       [12, 13, 14, 15],\n",
       "       [16, 17, 18, 19],\n",
       "       [20, 21, 22, 23],\n",
       "       [24, 25, 26, 27],\n",
       "       [28, 29, 30, 31]])"
      ]
     },
     "execution_count": 236,
     "metadata": {},
     "output_type": "execute_result"
    }
   ],
   "source": [
    "arr"
   ]
  },
  {
   "cell_type": "code",
   "execution_count": 258,
   "id": "f78433bb",
   "metadata": {},
   "outputs": [
    {
     "data": {
      "text/plain": [
       "array([[ 5],\n",
       "       [21],\n",
       "       [29],\n",
       "       [ 9]])"
      ]
     },
     "execution_count": 258,
     "metadata": {},
     "output_type": "execute_result"
    }
   ],
   "source": [
    "arr[[1,5,7,2]][:,[1,]]"
   ]
  },
  {
   "cell_type": "code",
   "execution_count": 9,
   "id": "d6be5159",
   "metadata": {},
   "outputs": [],
   "source": [
    "import numpy as np\n",
    "arr = np.arange(10)"
   ]
  },
  {
   "cell_type": "code",
   "execution_count": 10,
   "id": "e9843c13",
   "metadata": {},
   "outputs": [
    {
     "data": {
      "text/plain": [
       "array([0.        , 1.        , 1.41421356, 1.73205081, 2.        ,\n",
       "       2.23606798, 2.44948974, 2.64575131, 2.82842712, 3.        ])"
      ]
     },
     "execution_count": 10,
     "metadata": {},
     "output_type": "execute_result"
    }
   ],
   "source": [
    "np.sqrt(arr)"
   ]
  },
  {
   "cell_type": "code",
   "execution_count": 11,
   "id": "5a475930",
   "metadata": {},
   "outputs": [
    {
     "data": {
      "text/plain": [
       "array([  0,   1,   8,  27,  64, 125, 216, 343, 512, 729], dtype=int32)"
      ]
     },
     "execution_count": 11,
     "metadata": {},
     "output_type": "execute_result"
    }
   ],
   "source": [
    "np.power(arr,3)"
   ]
  },
  {
   "cell_type": "code",
   "execution_count": 12,
   "id": "f18385e7",
   "metadata": {},
   "outputs": [],
   "source": [
    "z = np.exp(arr)"
   ]
  },
  {
   "cell_type": "code",
   "execution_count": 13,
   "id": "35e1bb73",
   "metadata": {},
   "outputs": [],
   "source": [
    "x,y = np.modf(z)"
   ]
  },
  {
   "cell_type": "code",
   "execution_count": 14,
   "id": "036326c6",
   "metadata": {},
   "outputs": [
    {
     "data": {
      "text/plain": [
       "array([1.000e+00, 2.000e+00, 7.000e+00, 2.000e+01, 5.400e+01, 1.480e+02,\n",
       "       4.030e+02, 1.096e+03, 2.980e+03, 8.103e+03])"
      ]
     },
     "execution_count": 14,
     "metadata": {},
     "output_type": "execute_result"
    }
   ],
   "source": [
    "y"
   ]
  },
  {
   "cell_type": "code",
   "execution_count": 15,
   "id": "58a8a6f8",
   "metadata": {},
   "outputs": [
    {
     "data": {
      "text/plain": [
       "array([1.00000000e+00, 2.71828183e+00, 7.38905610e+00, 2.00855369e+01,\n",
       "       5.45981500e+01, 1.48413159e+02, 4.03428793e+02, 1.09663316e+03,\n",
       "       2.98095799e+03, 8.10308393e+03])"
      ]
     },
     "execution_count": 15,
     "metadata": {},
     "output_type": "execute_result"
    }
   ],
   "source": [
    "np.maximum(arr,z)"
   ]
  },
  {
   "cell_type": "code",
   "execution_count": 16,
   "id": "f52072e6",
   "metadata": {
    "scrolled": true
   },
   "outputs": [
    {
     "data": {
      "text/plain": [
       "array([ True, False, False, False, False, False, False, False, False,\n",
       "       False])"
      ]
     },
     "execution_count": 16,
     "metadata": {},
     "output_type": "execute_result"
    }
   ],
   "source": [
    "np.logical_xor(z,arr)"
   ]
  },
  {
   "cell_type": "code",
   "execution_count": 17,
   "id": "51ded92b",
   "metadata": {},
   "outputs": [],
   "source": [
    "points = np.arange(-5, 5, 0.01)  "
   ]
  },
  {
   "cell_type": "code",
   "execution_count": 18,
   "id": "cd733927",
   "metadata": {},
   "outputs": [],
   "source": [
    "xs,ys=np.meshgrid(points, points)"
   ]
  },
  {
   "cell_type": "code",
   "execution_count": 19,
   "id": "2299f5e5",
   "metadata": {},
   "outputs": [
    {
     "data": {
      "text/plain": [
       "array([[-5.  , -4.99, -4.98, ...,  4.97,  4.98,  4.99],\n",
       "       [-5.  , -4.99, -4.98, ...,  4.97,  4.98,  4.99],\n",
       "       [-5.  , -4.99, -4.98, ...,  4.97,  4.98,  4.99],\n",
       "       ...,\n",
       "       [-5.  , -4.99, -4.98, ...,  4.97,  4.98,  4.99],\n",
       "       [-5.  , -4.99, -4.98, ...,  4.97,  4.98,  4.99],\n",
       "       [-5.  , -4.99, -4.98, ...,  4.97,  4.98,  4.99]])"
      ]
     },
     "execution_count": 19,
     "metadata": {},
     "output_type": "execute_result"
    }
   ],
   "source": [
    "xs"
   ]
  },
  {
   "cell_type": "code",
   "execution_count": 20,
   "id": "886f733f",
   "metadata": {},
   "outputs": [
    {
     "data": {
      "image/png": "[encoded data removed]",
      "text/plain": [
       "<Figure size 432x288 with 1 Axes>"
      ]
     },
     "metadata": {
      "needs_background": "light"
     },
     "output_type": "display_data"
    }
   ],
   "source": [
    ">>> import numpy as np\n",
    ">>> import matplotlib.pyplot as plt\n",
    ">>> x = np.arange(-1, 5, 0.1)\n",
    ">>> y = np.arange(-15, 5, 0.1)\n",
    ">>> xx, yy = np.meshgrid(x, y, sparse=True)\n",
    ">>> z = np.sin(xx**2 + yy**2) / (xx**2 + yy**2)\n",
    ">>> h = plt.contourf(x,y,z)\n",
    ">>> plt.show()"
   ]
  },
  {
   "cell_type": "code",
   "execution_count": 26,
   "id": "2fc653a3",
   "metadata": {},
   "outputs": [
    {
     "data": {
      "text/plain": [
       "array([[7.07106781, 7.06400028, 7.05693985, ..., 7.04988652, 7.05693985,\n",
       "        7.06400028],\n",
       "       [7.06400028, 7.05692568, 7.04985815, ..., 7.04279774, 7.04985815,\n",
       "        7.05692568],\n",
       "       [7.05693985, 7.04985815, 7.04278354, ..., 7.03571603, 7.04278354,\n",
       "        7.04985815],\n",
       "       ...,\n",
       "       [7.04988652, 7.04279774, 7.03571603, ..., 7.0286414 , 7.03571603,\n",
       "        7.04279774],\n",
       "       [7.05693985, 7.04985815, 7.04278354, ..., 7.03571603, 7.04278354,\n",
       "        7.04985815],\n",
       "       [7.06400028, 7.05692568, 7.04985815, ..., 7.04279774, 7.04985815,\n",
       "        7.05692568]])"
      ]
     },
     "execution_count": 26,
     "metadata": {},
     "output_type": "execute_result"
    }
   ],
   "source": [
    "z = np.sqrt( xs ** 2 + ys **2 )\n",
    "\n",
    "z"
   ]
  },
  {
   "cell_type": "code",
   "execution_count": 27,
   "id": "dfc7789e",
   "metadata": {},
   "outputs": [],
   "source": [
    "z = np.sqrt(xs ** 2 + ys ** 2)"
   ]
  },
  {
   "cell_type": "code",
   "execution_count": 28,
   "id": "fb9e2f92",
   "metadata": {},
   "outputs": [
    {
     "data": {
      "text/plain": [
       "array([[7.07106781, 7.06400028, 7.05693985, ..., 7.04988652, 7.05693985,\n",
       "        7.06400028],\n",
       "       [7.06400028, 7.05692568, 7.04985815, ..., 7.04279774, 7.04985815,\n",
       "        7.05692568],\n",
       "       [7.05693985, 7.04985815, 7.04278354, ..., 7.03571603, 7.04278354,\n",
       "        7.04985815],\n",
       "       ...,\n",
       "       [7.04988652, 7.04279774, 7.03571603, ..., 7.0286414 , 7.03571603,\n",
       "        7.04279774],\n",
       "       [7.05693985, 7.04985815, 7.04278354, ..., 7.03571603, 7.04278354,\n",
       "        7.04985815],\n",
       "       [7.06400028, 7.05692568, 7.04985815, ..., 7.04279774, 7.04985815,\n",
       "        7.05692568]])"
      ]
     },
     "execution_count": 28,
     "metadata": {},
     "output_type": "execute_result"
    }
   ],
   "source": [
    "z"
   ]
  },
  {
   "cell_type": "markdown",
   "id": "abd0d93f",
   "metadata": {},
   "source": [
    "# Some lines from w3\n"
   ]
  },
  {
   "cell_type": "code",
   "execution_count": 4,
   "id": "517143a3",
   "metadata": {},
   "outputs": [],
   "source": [
    "a = np.arange(12).reshape(2,2,3)"
   ]
  },
  {
   "cell_type": "code",
   "execution_count": 5,
   "id": "a7048096",
   "metadata": {},
   "outputs": [
    {
     "data": {
      "text/plain": [
       "array([[[ 0,  1,  2],\n",
       "        [ 3,  4,  5]],\n",
       "\n",
       "       [[ 6,  7,  8],\n",
       "        [ 9, 10, 11]]])"
      ]
     },
     "execution_count": 5,
     "metadata": {},
     "output_type": "execute_result"
    }
   ],
   "source": [
    "a"
   ]
  },
  {
   "cell_type": "code",
   "execution_count": 20,
   "id": "50ca47c5",
   "metadata": {},
   "outputs": [
    {
     "data": {
      "text/plain": [
       "array([[0, 0, 0, 0, 0, 0],\n",
       "       [0, 0, 0, 0, 0, 0]])"
      ]
     },
     "execution_count": 20,
     "metadata": {},
     "output_type": "execute_result"
    }
   ],
   "source": [
    "a = np.zeros(12).reshape(2,6)\n",
    "np.asarray(a,dtype=int)"
   ]
  },
  {
   "cell_type": "code",
   "execution_count": 21,
   "id": "649c75d6",
   "metadata": {},
   "outputs": [],
   "source": [
    "b = [11,22,33,44,55,66]"
   ]
  },
  {
   "cell_type": "code",
   "execution_count": 26,
   "id": "63036680",
   "metadata": {},
   "outputs": [
    {
     "ename": "TypeError",
     "evalue": "can't multiply sequence by non-int of type 'list'",
     "output_type": "error",
     "traceback": [
      "\u001b[1;31m---------------------------------------------------------------------------\u001b[0m",
      "\u001b[1;31mTypeError\u001b[0m                                 Traceback (most recent call last)",
      "\u001b[1;32m<ipython-input-26-90c625521d60>\u001b[0m in \u001b[0;36m<module>\u001b[1;34m\u001b[0m\n\u001b[0;32m      1\u001b[0m \u001b[1;32mfor\u001b[0m \u001b[0mx\u001b[0m \u001b[1;32min\u001b[0m \u001b[0mrange\u001b[0m\u001b[1;33m(\u001b[0m\u001b[1;36m2\u001b[0m\u001b[1;33m)\u001b[0m\u001b[1;33m:\u001b[0m\u001b[1;33m\u001b[0m\u001b[1;33m\u001b[0m\u001b[0m\n\u001b[1;32m----> 2\u001b[1;33m     \u001b[0ma\u001b[0m\u001b[1;33m[\u001b[0m\u001b[0mx\u001b[0m\u001b[1;33m:\u001b[0m\u001b[1;33m]\u001b[0m \u001b[1;33m=\u001b[0m \u001b[0mb\u001b[0m \u001b[1;33m*\u001b[0m \u001b[0mb\u001b[0m\u001b[1;33m\u001b[0m\u001b[1;33m\u001b[0m\u001b[0m\n\u001b[0m",
      "\u001b[1;31mTypeError\u001b[0m: can't multiply sequence by non-int of type 'list'"
     ]
    }
   ],
   "source": [
    "for x in range(2):\n",
    "    a[x:] = b * b"
   ]
  },
  {
   "cell_type": "code",
   "execution_count": 25,
   "id": "485d6c97",
   "metadata": {},
   "outputs": [
    {
     "data": {
      "text/plain": [
       "array([[11., 22., 33., 44., 55., 66.],\n",
       "       [11., 22., 33., 44., 55., 66.]])"
      ]
     },
     "execution_count": 25,
     "metadata": {},
     "output_type": "execute_result"
    }
   ],
   "source": [
    "a"
   ]
  },
  {
   "cell_type": "code",
   "execution_count": 29,
   "id": "b92a2c81",
   "metadata": {},
   "outputs": [],
   "source": [
    "a = [1,2,3,4]\n",
    "b = [0, 10, 0, 10]"
   ]
  },
  {
   "cell_type": "code",
   "execution_count": 67,
   "id": "5cd20caf",
   "metadata": {},
   "outputs": [
    {
     "data": {
      "text/plain": [
       "array([[0, 1],\n",
       "       [2, 3]])"
      ]
     },
     "execution_count": 67,
     "metadata": {},
     "output_type": "execute_result"
    }
   ],
   "source": [
    "a = np.arange(4).reshape(2,2)\n",
    "a"
   ]
  },
  {
   "cell_type": "code",
   "execution_count": 66,
   "id": "7aa4f02a",
   "metadata": {},
   "outputs": [
    {
     "data": {
      "text/plain": [
       "array([[2, 3],\n",
       "       [4, 5]])"
      ]
     },
     "execution_count": 66,
     "metadata": {},
     "output_type": "execute_result"
    }
   ],
   "source": [
    "b = np.array([2,2])\n",
    "a"
   ]
  },
  {
   "cell_type": "code",
   "execution_count": 64,
   "id": "ee67f281",
   "metadata": {},
   "outputs": [],
   "source": [
    "for x in range(2):\n",
    "    a[x,:] += b"
   ]
  },
  {
   "cell_type": "code",
   "execution_count": 65,
   "id": "422356c1",
   "metadata": {},
   "outputs": [
    {
     "name": "stdout",
     "output_type": "stream",
     "text": [
      "[[2 3]\n",
      " [4 5]]\n"
     ]
    }
   ],
   "source": [
    "print(a)"
   ]
  },
  {
   "cell_type": "code",
   "execution_count": 71,
   "id": "26b76b28",
   "metadata": {},
   "outputs": [
    {
     "name": "stdout",
     "output_type": "stream",
     "text": [
      "Check if present at current location:\n",
      "[[[ 0  1]\n",
      "  [ 2  3]]\n",
      "\n",
      " [[ 4  5]\n",
      "  [ 6  7]]\n",
      "\n",
      " [[ 8  9]\n",
      "  [10 11]]]\n"
     ]
    }
   ],
   "source": [
    "import numpy as np\n",
    "import os\n",
    "\n",
    "a = np.arange(12).reshape(3,2,2)\n",
    "np.save('temp_arra.npy',a)\n",
    "print(\"Check if present at current location:\")\n",
    "\n",
    "if os.path.exists('temp_arra.npy'):\n",
    "    x2 = np.load('temp_arra.npy')\n",
    "    print(x2)"
   ]
  },
  {
   "cell_type": "code",
   "execution_count": 73,
   "id": "93e70174",
   "metadata": {},
   "outputs": [],
   "source": [
    "import numpy as np\n",
    "import os\n",
    "a = np.arange(4)\n",
    "\n",
    "np.save('my_first_np.npy',a)\n",
    "x = np.load('my_first_np.npy')"
   ]
  },
  {
   "cell_type": "code",
   "execution_count": 76,
   "id": "d1112dea",
   "metadata": {},
   "outputs": [
    {
     "name": "stdout",
     "output_type": "stream",
     "text": [
      "True\n"
     ]
    }
   ],
   "source": [
    "print(np.array_equal(a,x))"
   ]
  },
  {
   "cell_type": "code",
   "execution_count": 86,
   "id": "720c8421",
   "metadata": {},
   "outputs": [],
   "source": [
    "import numpy as np\n",
    "import os\n",
    "\n",
    "x = np.arange(10)\n",
    "y = np.arange(10,20)\n",
    "\n",
    "np.savez('twofiles.npz',x=x,y=y)"
   ]
  },
  {
   "cell_type": "code",
   "execution_count": 87,
   "id": "d40c249b",
   "metadata": {},
   "outputs": [
    {
     "name": "stdout",
     "output_type": "stream",
     "text": [
      "[[[ 0  1]\n",
      "  [ 2  3]]\n",
      "\n",
      " [[ 4  5]\n",
      "  [ 6  7]]\n",
      "\n",
      " [[ 8  9]\n",
      "  [10 11]]]\n"
     ]
    },
    {
     "ename": "NameError",
     "evalue": "name 'y2' is not defined",
     "output_type": "error",
     "traceback": [
      "\u001b[1;31m---------------------------------------------------------------------------\u001b[0m",
      "\u001b[1;31mNameError\u001b[0m                                 Traceback (most recent call last)",
      "\u001b[1;32m<ipython-input-87-393db9cd2955>\u001b[0m in \u001b[0;36m<module>\u001b[1;34m\u001b[0m\n\u001b[0;32m      3\u001b[0m     \u001b[0my1\u001b[0m \u001b[1;33m=\u001b[0m \u001b[0mf\u001b[0m\u001b[1;33m[\u001b[0m\u001b[1;34m'y'\u001b[0m\u001b[1;33m]\u001b[0m\u001b[1;33m\u001b[0m\u001b[1;33m\u001b[0m\u001b[0m\n\u001b[0;32m      4\u001b[0m     \u001b[0mprint\u001b[0m\u001b[1;33m(\u001b[0m\u001b[0mx2\u001b[0m\u001b[1;33m)\u001b[0m\u001b[1;33m\u001b[0m\u001b[1;33m\u001b[0m\u001b[0m\n\u001b[1;32m----> 5\u001b[1;33m     \u001b[0mprint\u001b[0m\u001b[1;33m(\u001b[0m\u001b[0my2\u001b[0m\u001b[1;33m)\u001b[0m\u001b[1;33m\u001b[0m\u001b[1;33m\u001b[0m\u001b[0m\n\u001b[0m",
      "\u001b[1;31mNameError\u001b[0m: name 'y2' is not defined"
     ]
    }
   ],
   "source": [
    "with np.load('twofiles.npz') as f:\n",
    "    x1 = f['x']\n",
    "    y1 = f['y']\n",
    "    print(x2)\n",
    "    print(y2)"
   ]
  },
  {
   "cell_type": "code",
   "execution_count": 91,
   "id": "2f257840",
   "metadata": {},
   "outputs": [
    {
     "name": "stdout",
     "output_type": "stream",
     "text": [
      "[1 2 3]\n",
      "[11 22 33]\n"
     ]
    }
   ],
   "source": [
    "a = np.array([1,2,3])\n",
    "b = np.array([11,22,33])\n",
    "\n",
    "np.savez('merafiles.npz',a=a,b=b)\n",
    "\n",
    "with np.load('merafiles.npz') as ff:\n",
    "    print(ff['a'])\n",
    "    print(ff['b'])"
   ]
  },
  {
   "cell_type": "markdown",
   "id": "407bf300",
   "metadata": {},
   "source": [
    "# Continuing Numpy from book\n"
   ]
  },
  {
   "cell_type": "code",
   "execution_count": 5,
   "id": "d0fe4f03",
   "metadata": {},
   "outputs": [],
   "source": [
    "import numpy as np"
   ]
  },
  {
   "cell_type": "code",
   "execution_count": 6,
   "id": "15f50e55",
   "metadata": {},
   "outputs": [],
   "source": [
    "points = np.arange(-5,5, 0.01)\n",
    "xs, ys = np.meshgrid(points, points)"
   ]
  },
  {
   "cell_type": "code",
   "execution_count": 7,
   "id": "246c7203",
   "metadata": {},
   "outputs": [
    {
     "data": {
      "text/plain": [
       "array([[-5.  , -5.  , -5.  , ..., -5.  , -5.  , -5.  ],\n",
       "       [-4.99, -4.99, -4.99, ..., -4.99, -4.99, -4.99],\n",
       "       [-4.98, -4.98, -4.98, ..., -4.98, -4.98, -4.98],\n",
       "       ...,\n",
       "       [ 4.97,  4.97,  4.97, ...,  4.97,  4.97,  4.97],\n",
       "       [ 4.98,  4.98,  4.98, ...,  4.98,  4.98,  4.98],\n",
       "       [ 4.99,  4.99,  4.99, ...,  4.99,  4.99,  4.99]])"
      ]
     },
     "execution_count": 7,
     "metadata": {},
     "output_type": "execute_result"
    }
   ],
   "source": [
    "ys"
   ]
  },
  {
   "cell_type": "code",
   "execution_count": 8,
   "id": "e9d39a35",
   "metadata": {},
   "outputs": [
    {
     "data": {
      "text/plain": [
       "array([[-5.  , -4.99, -4.98, ...,  4.97,  4.98,  4.99],\n",
       "       [-5.  , -4.99, -4.98, ...,  4.97,  4.98,  4.99],\n",
       "       [-5.  , -4.99, -4.98, ...,  4.97,  4.98,  4.99],\n",
       "       ...,\n",
       "       [-5.  , -4.99, -4.98, ...,  4.97,  4.98,  4.99],\n",
       "       [-5.  , -4.99, -4.98, ...,  4.97,  4.98,  4.99],\n",
       "       [-5.  , -4.99, -4.98, ...,  4.97,  4.98,  4.99]])"
      ]
     },
     "execution_count": 8,
     "metadata": {},
     "output_type": "execute_result"
    }
   ],
   "source": [
    "xs"
   ]
  },
  {
   "cell_type": "code",
   "execution_count": 9,
   "id": "19194e37",
   "metadata": {},
   "outputs": [],
   "source": [
    "z = np.sqrt(xs**2 + ys **2)"
   ]
  },
  {
   "cell_type": "code",
   "execution_count": 10,
   "id": "e52c3006",
   "metadata": {},
   "outputs": [
    {
     "data": {
      "text/plain": [
       "array([[7.07106781, 7.06400028, 7.05693985, ..., 7.04988652, 7.05693985,\n",
       "        7.06400028],\n",
       "       [7.06400028, 7.05692568, 7.04985815, ..., 7.04279774, 7.04985815,\n",
       "        7.05692568],\n",
       "       [7.05693985, 7.04985815, 7.04278354, ..., 7.03571603, 7.04278354,\n",
       "        7.04985815],\n",
       "       ...,\n",
       "       [7.04988652, 7.04279774, 7.03571603, ..., 7.0286414 , 7.03571603,\n",
       "        7.04279774],\n",
       "       [7.05693985, 7.04985815, 7.04278354, ..., 7.03571603, 7.04278354,\n",
       "        7.04985815],\n",
       "       [7.06400028, 7.05692568, 7.04985815, ..., 7.04279774, 7.04985815,\n",
       "        7.05692568]])"
      ]
     },
     "execution_count": 10,
     "metadata": {},
     "output_type": "execute_result"
    }
   ],
   "source": [
    "z"
   ]
  },
  {
   "cell_type": "code",
   "execution_count": 11,
   "id": "ed68552c",
   "metadata": {},
   "outputs": [
    {
     "data": {
      "text/plain": [
       "Text(0.5, 1.0, 'Image plot of $\\\\sqrt{x^2 + y^2}$ for a grid values')"
      ]
     },
     "execution_count": 11,
     "metadata": {},
     "output_type": "execute_result"
    },
    {
     "data": {
      "image/png": "[encoded data removed]",
      "text/plain": [
       "<Figure size 432x288 with 2 Axes>"
      ]
     },
     "metadata": {
      "needs_background": "light"
     },
     "output_type": "display_data"
    }
   ],
   "source": [
    "import matplotlib.pyplot as plt\n",
    "plt.imshow(z, cmap=plt.cm.gray); plt.colorbar()\n",
    "plt.title(\"Image plot of $\\sqrt{x^2 + y^2}$ for a grid values\")\n"
   ]
  },
  {
   "cell_type": "code",
   "execution_count": 12,
   "id": "d226bc40",
   "metadata": {},
   "outputs": [
    {
     "data": {
      "text/plain": [
       "array([ True, False,  True,  True, False])"
      ]
     },
     "execution_count": 12,
     "metadata": {},
     "output_type": "execute_result"
    }
   ],
   "source": [
    "xarr = np.array([1.1, 1.2, 1.3, 1.4, 1.5])\n",
    "yarr = np.array([2.1, 2.2, 2.3, 2.4, 2.5])\n",
    "\n",
    "cond = np.array([True, False, True, True, False])\n",
    "cond"
   ]
  },
  {
   "cell_type": "code",
   "execution_count": 13,
   "id": "09b1d2f0",
   "metadata": {},
   "outputs": [],
   "source": [
    "result = [(x if c else y)\n",
    "         for x, y, c in zip(xarr, yarr, cond)]"
   ]
  },
  {
   "cell_type": "code",
   "execution_count": 14,
   "id": "4f4b1995",
   "metadata": {},
   "outputs": [
    {
     "data": {
      "text/plain": [
       "[1.1, 2.2, 1.3, 1.4, 2.5]"
      ]
     },
     "execution_count": 14,
     "metadata": {},
     "output_type": "execute_result"
    }
   ],
   "source": [
    "result"
   ]
  },
  {
   "cell_type": "code",
   "execution_count": 15,
   "id": "cc3be02c",
   "metadata": {},
   "outputs": [],
   "source": [
    "x = np.array([1, 2, 3, 5])\n",
    "y = np.array([21, 31, 41, 54])\n",
    "\n",
    "cond = np.array([True, False, True, False])\n",
    "\n",
    "res= [(x if c else y)\n",
    "     for x,y,c in zip(x, y, cond)]"
   ]
  },
  {
   "cell_type": "code",
   "execution_count": 16,
   "id": "8bcb060c",
   "metadata": {},
   "outputs": [
    {
     "data": {
      "text/plain": [
       "[1, 31, 3, 54]"
      ]
     },
     "execution_count": 16,
     "metadata": {},
     "output_type": "execute_result"
    }
   ],
   "source": [
    "res"
   ]
  },
  {
   "cell_type": "code",
   "execution_count": 17,
   "id": "91b79f3e",
   "metadata": {},
   "outputs": [],
   "source": [
    "x = np.array([1, 2, 3, 5])\n",
    "y = np.array([21, 31, 41, 54])\n",
    "\n",
    "cond = np.array([True, False, True, False])\n",
    "\n",
    "res= [(x if c else y)\n",
    "     for x,y,c in zip(x, y, cond)]\n",
    "result = np.where(x, y, cond)"
   ]
  },
  {
   "cell_type": "code",
   "execution_count": 18,
   "id": "23040900",
   "metadata": {},
   "outputs": [
    {
     "data": {
      "text/plain": [
       "[1, 31, 3, 54]"
      ]
     },
     "execution_count": 18,
     "metadata": {},
     "output_type": "execute_result"
    }
   ],
   "source": [
    "res"
   ]
  },
  {
   "cell_type": "code",
   "execution_count": 19,
   "id": "ba917dab",
   "metadata": {},
   "outputs": [],
   "source": [
    "arr = np.random.randn(5,5)"
   ]
  },
  {
   "cell_type": "code",
   "execution_count": 20,
   "id": "e11f3101",
   "metadata": {},
   "outputs": [
    {
     "data": {
      "text/plain": [
       "array([['P', 'P', 'P', 'N', 'N'],\n",
       "       ['P', 'N', 'P', 'P', 'N'],\n",
       "       ['P', 'N', 'P', 'N', 'P'],\n",
       "       ['P', 'N', 'P', 'N', 'N'],\n",
       "       ['N', 'P', 'N', 'P', 'N']], dtype='<U1')"
      ]
     },
     "execution_count": 20,
     "metadata": {},
     "output_type": "execute_result"
    }
   ],
   "source": [
    "np.where(arr > 0 , 'P', 'N')"
   ]
  },
  {
   "cell_type": "code",
   "execution_count": 21,
   "id": "49d126f5",
   "metadata": {},
   "outputs": [],
   "source": [
    "arr = np.random.randn(5, 4)"
   ]
  },
  {
   "cell_type": "code",
   "execution_count": 22,
   "id": "e61e10ff",
   "metadata": {},
   "outputs": [
    {
     "data": {
      "text/plain": [
       "0.09187717298692324"
      ]
     },
     "execution_count": 22,
     "metadata": {},
     "output_type": "execute_result"
    }
   ],
   "source": [
    "arr.mean()"
   ]
  },
  {
   "cell_type": "code",
   "execution_count": 23,
   "id": "1ac3ef6f",
   "metadata": {},
   "outputs": [
    {
     "data": {
      "text/plain": [
       "0.09187717298692324"
      ]
     },
     "execution_count": 23,
     "metadata": {},
     "output_type": "execute_result"
    }
   ],
   "source": [
    "arr.mean()"
   ]
  },
  {
   "cell_type": "code",
   "execution_count": 24,
   "id": "1303c69f",
   "metadata": {},
   "outputs": [
    {
     "data": {
      "text/plain": [
       "0.09187717298692324"
      ]
     },
     "execution_count": 24,
     "metadata": {},
     "output_type": "execute_result"
    }
   ],
   "source": [
    "np.mean(arr)"
   ]
  },
  {
   "cell_type": "code",
   "execution_count": 27,
   "id": "ef07ef67",
   "metadata": {},
   "outputs": [
    {
     "data": {
      "text/plain": [
       "1.837543459738465"
      ]
     },
     "execution_count": 27,
     "metadata": {},
     "output_type": "execute_result"
    }
   ],
   "source": [
    "arr.sum()"
   ]
  },
  {
   "cell_type": "code",
   "execution_count": 28,
   "id": "14701a1d",
   "metadata": {},
   "outputs": [
    {
     "data": {
      "text/plain": [
       "1.837543459738465"
      ]
     },
     "execution_count": 28,
     "metadata": {},
     "output_type": "execute_result"
    }
   ],
   "source": [
    "np.sum(arr)"
   ]
  },
  {
   "cell_type": "code",
   "execution_count": 29,
   "id": "b0a92a1c",
   "metadata": {},
   "outputs": [
    {
     "data": {
      "text/plain": [
       "array([-2.92375691,  3.27390076,  1.13978629, -0.68590977,  1.03352309])"
      ]
     },
     "execution_count": 29,
     "metadata": {},
     "output_type": "execute_result"
    }
   ],
   "source": [
    "arr.sum(axis=1)"
   ]
  },
  {
   "cell_type": "code",
   "execution_count": 30,
   "id": "1f425def",
   "metadata": {},
   "outputs": [
    {
     "data": {
      "text/plain": [
       "array([-0.08326154,  2.54425508,  0.55546311, -1.17891318])"
      ]
     },
     "execution_count": 30,
     "metadata": {},
     "output_type": "execute_result"
    }
   ],
   "source": [
    "arr.sum(axis=0)"
   ]
  },
  {
   "cell_type": "code",
   "execution_count": 31,
   "id": "bac1e076",
   "metadata": {},
   "outputs": [
    {
     "data": {
      "text/plain": [
       "array([-2.92375691,  3.27390076,  1.13978629, -0.68590977,  1.03352309])"
      ]
     },
     "execution_count": 31,
     "metadata": {},
     "output_type": "execute_result"
    }
   ],
   "source": [
    "arr.sum(1)"
   ]
  },
  {
   "cell_type": "code",
   "execution_count": 32,
   "id": "45f75064",
   "metadata": {},
   "outputs": [
    {
     "data": {
      "text/plain": [
       "array([[0, 1, 2],\n",
       "       [3, 4, 5],\n",
       "       [6, 7, 8]])"
      ]
     },
     "execution_count": 32,
     "metadata": {},
     "output_type": "execute_result"
    }
   ],
   "source": [
    "arr = np.array([[0, 1, 2], [3, 4, 5], [6, 7, 8]])\n",
    "arr"
   ]
  },
  {
   "cell_type": "code",
   "execution_count": 33,
   "id": "6e71cbb2",
   "metadata": {},
   "outputs": [
    {
     "data": {
      "text/plain": [
       "array([[ 0,  1,  2],\n",
       "       [ 3,  5,  7],\n",
       "       [ 9, 12, 15]], dtype=int32)"
      ]
     },
     "execution_count": 33,
     "metadata": {},
     "output_type": "execute_result"
    }
   ],
   "source": [
    "arr.cumsum(0)"
   ]
  },
  {
   "cell_type": "code",
   "execution_count": 34,
   "id": "8d783cf9",
   "metadata": {},
   "outputs": [
    {
     "data": {
      "text/plain": [
       "array([[  0,   0,   0],\n",
       "       [  3,  12,  60],\n",
       "       [  6,  42, 336]], dtype=int32)"
      ]
     },
     "execution_count": 34,
     "metadata": {},
     "output_type": "execute_result"
    }
   ],
   "source": [
    "arr.cumprod(axis=1)"
   ]
  },
  {
   "cell_type": "code",
   "execution_count": 35,
   "id": "f27465ce",
   "metadata": {},
   "outputs": [
    {
     "data": {
      "text/plain": [
       "45"
      ]
     },
     "execution_count": 35,
     "metadata": {},
     "output_type": "execute_result"
    }
   ],
   "source": [
    "arr = np.random.randn(100)\n",
    "(arr> 0).sum()"
   ]
  },
  {
   "cell_type": "code",
   "execution_count": 36,
   "id": "9afaf1e6",
   "metadata": {},
   "outputs": [
    {
     "data": {
      "text/plain": [
       "45"
      ]
     },
     "execution_count": 36,
     "metadata": {},
     "output_type": "execute_result"
    }
   ],
   "source": [
    "arr = np.random.randn(100)\n",
    "(arr > 0).sum()"
   ]
  },
  {
   "cell_type": "code",
   "execution_count": 37,
   "id": "9e7ea3d7",
   "metadata": {},
   "outputs": [
    {
     "data": {
      "text/plain": [
       "True"
      ]
     },
     "execution_count": 37,
     "metadata": {},
     "output_type": "execute_result"
    }
   ],
   "source": [
    "bools = np.array([True, False])\n",
    "\n",
    "bools.any()"
   ]
  },
  {
   "cell_type": "code",
   "execution_count": 38,
   "id": "4770b0d6",
   "metadata": {},
   "outputs": [
    {
     "data": {
      "text/plain": [
       "False"
      ]
     },
     "execution_count": 38,
     "metadata": {},
     "output_type": "execute_result"
    }
   ],
   "source": [
    "bools.all()"
   ]
  },
  {
   "cell_type": "code",
   "execution_count": 39,
   "id": "e3a55946",
   "metadata": {},
   "outputs": [
    {
     "data": {
      "text/plain": [
       "77"
      ]
     },
     "execution_count": 39,
     "metadata": {},
     "output_type": "execute_result"
    }
   ],
   "source": [
    "(arr > -1).sum()"
   ]
  },
  {
   "cell_type": "code",
   "execution_count": 40,
   "id": "8d697a8e",
   "metadata": {},
   "outputs": [],
   "source": [
    "bools = np.array([True, False, True])"
   ]
  },
  {
   "cell_type": "code",
   "execution_count": 41,
   "id": "893b1ffc",
   "metadata": {},
   "outputs": [
    {
     "data": {
      "text/plain": [
       "True"
      ]
     },
     "execution_count": 41,
     "metadata": {},
     "output_type": "execute_result"
    }
   ],
   "source": [
    "bools.any()"
   ]
  },
  {
   "cell_type": "code",
   "execution_count": 42,
   "id": "72fe0451",
   "metadata": {},
   "outputs": [
    {
     "data": {
      "text/plain": [
       "False"
      ]
     },
     "execution_count": 42,
     "metadata": {},
     "output_type": "execute_result"
    }
   ],
   "source": [
    "bools.all()"
   ]
  },
  {
   "cell_type": "markdown",
   "id": "a032ce93",
   "metadata": {},
   "source": [
    "# Sorting..."
   ]
  },
  {
   "cell_type": "code",
   "execution_count": 43,
   "id": "03e8eaa6",
   "metadata": {},
   "outputs": [
    {
     "data": {
      "text/plain": [
       "array([-0.59063973, -2.72799647, -1.33765273, -0.70003803, -1.67181009,\n",
       "        2.10327368])"
      ]
     },
     "execution_count": 43,
     "metadata": {},
     "output_type": "execute_result"
    }
   ],
   "source": [
    "arr = np.random.randn(6)\n",
    "arr"
   ]
  },
  {
   "cell_type": "code",
   "execution_count": 44,
   "id": "078cd235",
   "metadata": {},
   "outputs": [
    {
     "data": {
      "text/plain": [
       "array([-2.72799647, -1.67181009, -1.33765273, -0.70003803, -0.59063973,\n",
       "        2.10327368])"
      ]
     },
     "execution_count": 44,
     "metadata": {},
     "output_type": "execute_result"
    }
   ],
   "source": [
    "np.sort(arr)"
   ]
  },
  {
   "cell_type": "code",
   "execution_count": 45,
   "id": "22a4dc50",
   "metadata": {},
   "outputs": [],
   "source": [
    "arr =  np.random.randn(5, 3)"
   ]
  },
  {
   "cell_type": "code",
   "execution_count": 46,
   "id": "f30ef635",
   "metadata": {},
   "outputs": [
    {
     "name": "stdout",
     "output_type": "stream",
     "text": [
      "[[-0.12989137  2.56430929 -1.29347612]\n",
      " [ 0.1136509   0.88442065  0.76024015]\n",
      " [-0.69073219 -1.41883856 -2.01727885]\n",
      " [-0.55745662  0.33971742  1.35512562]\n",
      " [-0.78160367  0.54486955 -0.70551505]]\n"
     ]
    }
   ],
   "source": [
    "print(arr)\n",
    "arr.sort(0)"
   ]
  },
  {
   "cell_type": "code",
   "execution_count": 47,
   "id": "8e2f58bc",
   "metadata": {},
   "outputs": [
    {
     "name": "stdout",
     "output_type": "stream",
     "text": [
      "[[-0.78160367 -1.41883856 -2.01727885]\n",
      " [-0.69073219  0.33971742 -1.29347612]\n",
      " [-0.55745662  0.54486955 -0.70551505]\n",
      " [-0.12989137  0.88442065  0.76024015]\n",
      " [ 0.1136509   2.56430929  1.35512562]]\n"
     ]
    }
   ],
   "source": [
    "print(arr)"
   ]
  },
  {
   "cell_type": "code",
   "execution_count": 48,
   "id": "f1c91c3c",
   "metadata": {},
   "outputs": [
    {
     "name": "stdout",
     "output_type": "stream",
     "text": [
      "[[-0.78160367 -1.41883856 -2.01727885]\n",
      " [-0.69073219  0.33971742 -1.29347612]\n",
      " [-0.55745662  0.54486955 -0.70551505]\n",
      " [-0.12989137  0.88442065  0.76024015]\n",
      " [ 0.1136509   2.56430929  1.35512562]]\n"
     ]
    }
   ],
   "source": [
    "print(arr)"
   ]
  },
  {
   "cell_type": "code",
   "execution_count": 49,
   "id": "cf77b2fe",
   "metadata": {},
   "outputs": [],
   "source": [
    "arr.sort(1)"
   ]
  },
  {
   "cell_type": "code",
   "execution_count": 50,
   "id": "fcf0d51f",
   "metadata": {},
   "outputs": [
    {
     "data": {
      "text/plain": [
       "array([[-2.01727885, -1.41883856, -0.78160367],\n",
       "       [-1.29347612, -0.69073219,  0.33971742],\n",
       "       [-0.70551505, -0.55745662,  0.54486955],\n",
       "       [-0.12989137,  0.76024015,  0.88442065],\n",
       "       [ 0.1136509 ,  1.35512562,  2.56430929]])"
      ]
     },
     "execution_count": 50,
     "metadata": {},
     "output_type": "execute_result"
    }
   ],
   "source": [
    "arr"
   ]
  },
  {
   "cell_type": "code",
   "execution_count": 51,
   "id": "f1b99141",
   "metadata": {},
   "outputs": [],
   "source": [
    "large_ar = np.random.randn(1000)\n",
    "large_ar.sort()"
   ]
  },
  {
   "cell_type": "code",
   "execution_count": 52,
   "id": "e8ab8151",
   "metadata": {},
   "outputs": [
    {
     "data": {
      "text/plain": [
       "-1.5346505891540565"
      ]
     },
     "execution_count": 52,
     "metadata": {},
     "output_type": "execute_result"
    }
   ],
   "source": [
    "large_ar[int(0.05 * len(large_ar))]"
   ]
  },
  {
   "cell_type": "code",
   "execution_count": 56,
   "id": "f8b68317",
   "metadata": {},
   "outputs": [],
   "source": [
    "arr.sort()"
   ]
  },
  {
   "cell_type": "code",
   "execution_count": 57,
   "id": "31b642f0",
   "metadata": {},
   "outputs": [
    {
     "data": {
      "text/plain": [
       "array([[-2.01727885, -1.41883856, -0.78160367],\n",
       "       [-1.29347612, -0.69073219,  0.33971742],\n",
       "       [-0.70551505, -0.55745662,  0.54486955],\n",
       "       [-0.12989137,  0.76024015,  0.88442065],\n",
       "       [ 0.1136509 ,  1.35512562,  2.56430929]])"
      ]
     },
     "execution_count": 57,
     "metadata": {},
     "output_type": "execute_result"
    }
   ],
   "source": [
    "arr"
   ]
  },
  {
   "cell_type": "markdown",
   "id": "3298f520",
   "metadata": {},
   "source": [
    "# Unique and other set logic"
   ]
  },
  {
   "cell_type": "code",
   "execution_count": 58,
   "id": "90ca060c",
   "metadata": {},
   "outputs": [],
   "source": [
    "import numpy as np"
   ]
  },
  {
   "cell_type": "code",
   "execution_count": 59,
   "id": "0bcefb10",
   "metadata": {},
   "outputs": [],
   "source": [
    "arr = np.array(['Bob', 'Catty', \n",
    "               'Bob' , 'John', 'Bob', 'Catty'])"
   ]
  },
  {
   "cell_type": "code",
   "execution_count": 60,
   "id": "f78275f9",
   "metadata": {},
   "outputs": [
    {
     "data": {
      "text/plain": [
       "array(['Bob', 'Catty', 'John'], dtype='<U5')"
      ]
     },
     "execution_count": 60,
     "metadata": {},
     "output_type": "execute_result"
    }
   ],
   "source": [
    "np.unique(arr)"
   ]
  },
  {
   "cell_type": "code",
   "execution_count": 61,
   "id": "67e11a0b",
   "metadata": {},
   "outputs": [],
   "source": [
    "ints = np.array([3, 3, 3, 2, 2, 1, 1, 4, 4])"
   ]
  },
  {
   "cell_type": "code",
   "execution_count": 62,
   "id": "6a1e8624",
   "metadata": {},
   "outputs": [
    {
     "data": {
      "text/plain": [
       "array([1, 2, 3, 4])"
      ]
     },
     "execution_count": 62,
     "metadata": {},
     "output_type": "execute_result"
    }
   ],
   "source": [
    "np.unique(ints)"
   ]
  },
  {
   "cell_type": "code",
   "execution_count": 64,
   "id": "20e4656e",
   "metadata": {},
   "outputs": [
    {
     "data": {
      "text/plain": [
       "array(['Bob', 'Catty', 'Bob', 'John', 'Bob', 'Catty'], dtype='<U5')"
      ]
     },
     "execution_count": 64,
     "metadata": {},
     "output_type": "execute_result"
    }
   ],
   "source": [
    "arr"
   ]
  },
  {
   "cell_type": "code",
   "execution_count": 65,
   "id": "a320eb91",
   "metadata": {},
   "outputs": [],
   "source": [
    "name = set(arr)"
   ]
  },
  {
   "cell_type": "code",
   "execution_count": 66,
   "id": "9014e7db",
   "metadata": {},
   "outputs": [
    {
     "data": {
      "text/plain": [
       "['Bob', 'Catty', 'John']"
      ]
     },
     "execution_count": 66,
     "metadata": {},
     "output_type": "execute_result"
    }
   ],
   "source": [
    "sorted(name)"
   ]
  },
  {
   "cell_type": "code",
   "execution_count": 67,
   "id": "35e01849",
   "metadata": {},
   "outputs": [],
   "source": [
    "np.in1d?"
   ]
  },
  {
   "cell_type": "code",
   "execution_count": 68,
   "id": "bdc3339b",
   "metadata": {},
   "outputs": [],
   "source": [
    "a = [1, 2 ,3 ,5 ,1 ,2]\n",
    "b = [2, 1,3]"
   ]
  },
  {
   "cell_type": "code",
   "execution_count": 69,
   "id": "006dee26",
   "metadata": {},
   "outputs": [
    {
     "data": {
      "text/plain": [
       "array([ True,  True,  True, False,  True,  True])"
      ]
     },
     "execution_count": 69,
     "metadata": {},
     "output_type": "execute_result"
    }
   ],
   "source": [
    "np.in1d(a,b)"
   ]
  },
  {
   "cell_type": "markdown",
   "id": "60e91558",
   "metadata": {},
   "source": [
    "# 4.4 File Input and Output with Arrays"
   ]
  },
  {
   "cell_type": "code",
   "execution_count": 71,
   "id": "fb0968a9",
   "metadata": {},
   "outputs": [],
   "source": [
    "arr = np.arange(6)\n",
    "np.save('some_array', arr)"
   ]
  },
  {
   "cell_type": "code",
   "execution_count": 72,
   "id": "9e5122d4",
   "metadata": {},
   "outputs": [
    {
     "data": {
      "text/plain": [
       "array([0, 1, 2, 3, 4, 5])"
      ]
     },
     "execution_count": 72,
     "metadata": {},
     "output_type": "execute_result"
    }
   ],
   "source": [
    "np.load('some_array.npy')"
   ]
  },
  {
   "cell_type": "code",
   "execution_count": 78,
   "id": "a1ed6404",
   "metadata": {},
   "outputs": [],
   "source": [
    "np.savez('another_array', a=arr, b=arr)"
   ]
  },
  {
   "cell_type": "code",
   "execution_count": 79,
   "id": "e95f699f",
   "metadata": {},
   "outputs": [
    {
     "data": {
      "text/plain": [
       "array([0, 1, 2, 3, 4, 5])"
      ]
     },
     "execution_count": 79,
     "metadata": {},
     "output_type": "execute_result"
    }
   ],
   "source": [
    "np.load('another_array.npz')['b']"
   ]
  },
  {
   "cell_type": "code",
   "execution_count": 80,
   "id": "c3d2fcd1",
   "metadata": {},
   "outputs": [],
   "source": [
    "np.savez_compressed('another_array.npz', a=arr, b=arr)"
   ]
  },
  {
   "cell_type": "code",
   "execution_count": 82,
   "id": "e151e672",
   "metadata": {},
   "outputs": [
    {
     "data": {
      "text/plain": [
       "array([0, 1, 2, 3, 4, 5])"
      ]
     },
     "execution_count": 82,
     "metadata": {},
     "output_type": "execute_result"
    }
   ],
   "source": [
    "np.load('another_array.npz')['a']"
   ]
  },
  {
   "cell_type": "markdown",
   "id": "7dc8ff33",
   "metadata": {},
   "source": [
    "# 4.5 Linear Algebra"
   ]
  },
  {
   "cell_type": "code",
   "execution_count": 83,
   "id": "fbb92cb6",
   "metadata": {},
   "outputs": [],
   "source": [
    "x = np.array([[1., 2., 3.], [4., 5., 6.]])\n",
    "y = np.array([[6., 23.], [-1, 7], [8, 9]])"
   ]
  },
  {
   "cell_type": "code",
   "execution_count": 86,
   "id": "722d4725",
   "metadata": {},
   "outputs": [
    {
     "name": "stdout",
     "output_type": "stream",
     "text": [
      "[[1. 2. 3.]\n",
      " [4. 5. 6.]]\n",
      "[[ 6. 23.]\n",
      " [-1.  7.]\n",
      " [ 8.  9.]]\n"
     ]
    }
   ],
   "source": [
    "print(x)\n",
    "print(y)"
   ]
  },
  {
   "cell_type": "code",
   "execution_count": 90,
   "id": "09df32a7",
   "metadata": {},
   "outputs": [
    {
     "name": "stdout",
     "output_type": "stream",
     "text": [
      "[[ 28.  64.]\n",
      " [ 67. 181.]]\n"
     ]
    },
    {
     "data": {
      "text/plain": [
       "array([[ 98., 127., 156.],\n",
       "       [ 27.,  33.,  39.],\n",
       "       [ 44.,  61.,  78.]])"
      ]
     },
     "execution_count": 90,
     "metadata": {},
     "output_type": "execute_result"
    }
   ],
   "source": [
    "print(x.dot(y))\n",
    "y.dot(x)"
   ]
  },
  {
   "cell_type": "code",
   "execution_count": 93,
   "id": "c8ccd96e",
   "metadata": {},
   "outputs": [
    {
     "data": {
      "text/plain": [
       "array([[ True,  True],\n",
       "       [ True,  True]])"
      ]
     },
     "execution_count": 93,
     "metadata": {},
     "output_type": "execute_result"
    }
   ],
   "source": [
    "x.dot(y) == np.dot(x, 1*y)"
   ]
  },
  {
   "cell_type": "code",
   "execution_count": 98,
   "id": "36388138",
   "metadata": {},
   "outputs": [
    {
     "name": "stdout",
     "output_type": "stream",
     "text": [
      "Wall time: 0 ns\n"
     ]
    },
    {
     "data": {
      "text/plain": [
       "array([ 6., 15.])"
      ]
     },
     "execution_count": 98,
     "metadata": {},
     "output_type": "execute_result"
    }
   ],
   "source": [
    "%time np.dot(x, np.ones(3))"
   ]
  },
  {
   "cell_type": "code",
   "execution_count": 99,
   "id": "99302f14",
   "metadata": {},
   "outputs": [
    {
     "name": "stdout",
     "output_type": "stream",
     "text": [
      "Wall time: 0 ns\n"
     ]
    },
    {
     "data": {
      "text/plain": [
       "array([ 6., 15.])"
      ]
     },
     "execution_count": 99,
     "metadata": {},
     "output_type": "execute_result"
    }
   ],
   "source": [
    "%time x @ np.ones(3)"
   ]
  },
  {
   "cell_type": "code",
   "execution_count": 100,
   "id": "ab417a8b",
   "metadata": {},
   "outputs": [],
   "source": [
    "from numpy.linalg import inv, qr"
   ]
  },
  {
   "cell_type": "code",
   "execution_count": 102,
   "id": "5a0014e1",
   "metadata": {},
   "outputs": [
    {
     "name": "stdout",
     "output_type": "stream",
     "text": [
      "[[ 11.66078503 -12.06908803  13.12278095   0.97593317  -4.82336043]\n",
      " [-12.06908803  13.17385655 -13.96995122  -1.0932894    4.67188486]\n",
      " [ 13.12278095 -13.96995122  15.60901596   1.09561044  -5.32198659]\n",
      " [  0.97593317  -1.0932894    1.09561044   0.21747835  -0.31306247]\n",
      " [ -4.82336043   4.67188486  -5.32198659  -0.31306247   2.45494629]]\n"
     ]
    }
   ],
   "source": [
    "X = np.random.randn(5, 5)\n",
    "mat = X.T.dot(X)\n",
    "print(inv(mat))"
   ]
  },
  {
   "cell_type": "code",
   "execution_count": 103,
   "id": "377a459e",
   "metadata": {},
   "outputs": [
    {
     "name": "stdout",
     "output_type": "stream",
     "text": [
      "[[ 4.57953913  2.42864862 -0.59401076 -1.10692246  2.94692716]\n",
      " [ 2.42864862  3.01961286  1.18203589  0.74970073  1.68331437]\n",
      " [-0.59401076  1.18203589  1.69464883  0.53994185  0.32606429]\n",
      " [-1.10692246  0.74970073  0.53994185  8.71441357 -1.31973656]\n",
      " [ 2.94692716  1.68331437  0.32606429 -1.31973656  3.53245641]]\n"
     ]
    }
   ],
   "source": [
    "print(X.T.dot(X))"
   ]
  },
  {
   "cell_type": "code",
   "execution_count": 104,
   "id": "d94aa6eb",
   "metadata": {},
   "outputs": [
    {
     "data": {
      "text/plain": [
       "array([[ 11.66078503, -12.06908803,  13.12278095,   0.97593317,\n",
       "         -4.82336043],\n",
       "       [-12.06908803,  13.17385655, -13.96995122,  -1.0932894 ,\n",
       "          4.67188486],\n",
       "       [ 13.12278095, -13.96995122,  15.60901596,   1.09561044,\n",
       "         -5.32198659],\n",
       "       [  0.97593317,  -1.0932894 ,   1.09561044,   0.21747835,\n",
       "         -0.31306247],\n",
       "       [ -4.82336043,   4.67188486,  -5.32198659,  -0.31306247,\n",
       "          2.45494629]])"
      ]
     },
     "execution_count": 104,
     "metadata": {},
     "output_type": "execute_result"
    }
   ],
   "source": [
    "inv(mat)"
   ]
  },
  {
   "cell_type": "code",
   "execution_count": 105,
   "id": "1792b964",
   "metadata": {},
   "outputs": [
    {
     "data": {
      "text/plain": [
       "array([[ 1.00000000e+00,  0.00000000e+00, -1.06581410e-14,\n",
       "        -4.44089210e-16,  0.00000000e+00],\n",
       "       [-3.55271368e-15,  1.00000000e+00, -5.32907052e-15,\n",
       "        -1.11022302e-16, -2.66453526e-15],\n",
       "       [ 4.44089210e-16, -1.55431223e-15,  1.00000000e+00,\n",
       "         3.88578059e-16, -2.99760217e-15],\n",
       "       [ 1.77635684e-15, -3.55271368e-15,  8.88178420e-16,\n",
       "         1.00000000e+00, -4.44089210e-16],\n",
       "       [ 0.00000000e+00, -3.55271368e-15,  3.55271368e-15,\n",
       "         6.66133815e-16,  1.00000000e+00]])"
      ]
     },
     "execution_count": 105,
     "metadata": {},
     "output_type": "execute_result"
    }
   ],
   "source": [
    "mat.dot(inv(mat))"
   ]
  },
  {
   "cell_type": "code",
   "execution_count": 106,
   "id": "ba5eea13",
   "metadata": {},
   "outputs": [
    {
     "data": {
      "text/plain": [
       "array([[ 28.,  64.],\n",
       "       [ 67., 181.]])"
      ]
     },
     "execution_count": 106,
     "metadata": {},
     "output_type": "execute_result"
    }
   ],
   "source": [
    "x @ y"
   ]
  },
  {
   "cell_type": "code",
   "execution_count": 107,
   "id": "4caf6b72",
   "metadata": {},
   "outputs": [
    {
     "data": {
      "text/plain": [
       "array([[ 98., 127., 156.],\n",
       "       [ 27.,  33.,  39.],\n",
       "       [ 44.,  61.,  78.]])"
      ]
     },
     "execution_count": 107,
     "metadata": {},
     "output_type": "execute_result"
    }
   ],
   "source": [
    "y @ x"
   ]
  },
  {
   "cell_type": "code",
   "execution_count": 108,
   "id": "bccb12bc",
   "metadata": {},
   "outputs": [],
   "source": [
    "from numpy.linalg import inv, qr"
   ]
  },
  {
   "cell_type": "markdown",
   "id": "76eafbca",
   "metadata": {},
   "source": [
    "# 4.6 Pseudorandom Number Generation"
   ]
  },
  {
   "cell_type": "code",
   "execution_count": 110,
   "id": "9d21037d",
   "metadata": {},
   "outputs": [],
   "source": [
    "samples = np.random.normal(size=(4,4))"
   ]
  },
  {
   "cell_type": "code",
   "execution_count": 111,
   "id": "a513b596",
   "metadata": {},
   "outputs": [
    {
     "data": {
      "text/plain": [
       "array([[ 0.07034202,  1.40737433, -1.00090656, -0.20174665],\n",
       "       [ 0.12409458, -0.50122615,  0.39125005,  1.31734245],\n",
       "       [-0.46794015,  0.34888085,  0.80224718, -2.06914993],\n",
       "       [ 1.18134712, -0.59408665,  1.31831456, -0.77240663]])"
      ]
     },
     "execution_count": 111,
     "metadata": {},
     "output_type": "execute_result"
    }
   ],
   "source": [
    "samples"
   ]
  },
  {
   "cell_type": "code",
   "execution_count": 123,
   "id": "8aa274f8",
   "metadata": {},
   "outputs": [
    {
     "name": "stdout",
     "output_type": "stream",
     "text": [
      "167 ms ± 3.32 ms per loop (mean ± std. dev. of 7 runs, 10 loops each)\n"
     ]
    }
   ],
   "source": [
    "from random import normalvariate\n",
    "n = 100000\n",
    "%timeit samples = [normalvariate(0,1) for _ in range(n)]"
   ]
  },
  {
   "cell_type": "code",
   "execution_count": 124,
   "id": "bd47cca8",
   "metadata": {},
   "outputs": [
    {
     "data": {
      "text/plain": [
       "[0.6451357589882528,\n",
       " 1.234130050570388,\n",
       " -0.01136388464384673,\n",
       " 0.8790629680179888,\n",
       " 0.16567743682670222,\n",
       " -1.9906157835540892,\n",
       " 1.6100200709049732,\n",
       " 1.9900178320985604,\n",
       " -0.16509373887008685,\n",
       " -0.2638113196426323,\n",
       " 2.503035806687084,\n",
       " 0.54256328215407,\n",
       " -1.5569867708204892,\n",
       " 0.48568765543257847,\n",
       " -0.42353635508414705,\n",
       " -0.3577736934518539,\n",
       " 0.657682664139308,\n",
       " -0.2599318585167941,\n",
       " 0.04466721678908003,\n",
       " -1.270791662814855,\n",
       " 0.4797148833279691,\n",
       " -0.013719914363736723,\n",
       " 0.9687802005463759,\n",
       " -0.34103682159121396,\n",
       " -0.0013486253440471358,\n",
       " -0.0006074272656677496,\n",
       " 2.4914680452919753,\n",
       " 0.4853639175142868,\n",
       " 0.07763660354601423,\n",
       " -0.0019917819860076624,\n",
       " -0.11867305233146842,\n",
       " 0.014432408509313883,\n",
       " -0.18916626137475043,\n",
       " 0.32488961661872456,\n",
       " -1.0602799072238278,\n",
       " -0.21330376498801687,\n",
       " -1.5547738991657412,\n",
       " -0.44277473997581085,\n",
       " 0.243862142243463,\n",
       " 0.49891860006529554,\n",
       " -1.7822988259704506,\n",
       " -1.9038252467812757,\n",
       " 0.34086269646689354,\n",
       " -0.11183135687489658,\n",
       " 1.772399672584366,\n",
       " -1.431949489580896,\n",
       " 0.6521422477003737,\n",
       " 1.024563280178486,\n",
       " -0.31244628148087056,\n",
       " 0.43781348797156955,\n",
       " -0.5025858627635713,\n",
       " 0.8804703539905752,\n",
       " -2.73616181774883,\n",
       " 0.870934877929271,\n",
       " -0.9125478193943792,\n",
       " 0.41344492028800583,\n",
       " -1.7746992646868898,\n",
       " -0.1391737142332042,\n",
       " 0.311272926129139,\n",
       " 0.7974214596326188,\n",
       " -0.8358200200607766,\n",
       " -0.6853881615723506,\n",
       " -1.3199074529600012,\n",
       " -1.0168844334876914,\n",
       " -0.9615189270960882,\n",
       " 0.5304526572886821,\n",
       " -0.1071079708212421,\n",
       " -1.2019798537385857,\n",
       " -0.40071298064399435,\n",
       " 1.0563139103407098,\n",
       " -0.1785459257351215,\n",
       " 1.2321414573136464,\n",
       " 1.005844101291357,\n",
       " 0.5335525423441423,\n",
       " -1.864569665651272,\n",
       " -0.2004703737492107,\n",
       " 0.7425471996129542,\n",
       " -0.09455802695106631,\n",
       " -0.9317177916374503,\n",
       " -0.9701399973097391,\n",
       " 0.8339957298220341,\n",
       " 1.0817840696030911,\n",
       " 0.38813234185844114,\n",
       " -0.2499027627867175,\n",
       " -0.8099482978201408,\n",
       " 1.8455614223279084,\n",
       " -1.6233130073083097,\n",
       " -1.6910250341594002,\n",
       " 1.1496209509487096,\n",
       " -1.1669417032925926,\n",
       " -1.7685177289249232,\n",
       " -1.7971254706786588,\n",
       " -1.5480091648221153,\n",
       " 0.6232162850433852,\n",
       " -0.38278544431223177,\n",
       " -0.34534352680408625,\n",
       " -0.7222283789500207,\n",
       " -0.9930408132310925,\n",
       " -0.016089750512946064,\n",
       " -0.509708470185398,\n",
       " -0.27310882627043437,\n",
       " 0.7239309501200497,\n",
       " 0.12579454407835905,\n",
       " -1.0813292226091415,\n",
       " -0.9485168218694924,\n",
       " 0.8787111975976356,\n",
       " 0.6795121961825499,\n",
       " -0.4511718218698384,\n",
       " 0.46206619885853417,\n",
       " -0.07527739131606755,\n",
       " 0.08113636584605922,\n",
       " -1.2391803925643008,\n",
       " -0.605931122704142,\n",
       " -1.2093585349964964,\n",
       " 0.1352491442346226,\n",
       " -1.1961447688157363,\n",
       " 0.4677328588940929,\n",
       " 0.7678899609419865,\n",
       " -0.7389494939661118,\n",
       " -0.9078945559108571,\n",
       " 0.6392935198936192,\n",
       " 0.6635998467884561,\n",
       " -0.3435263655400371,\n",
       " 0.029785579169334612,\n",
       " -0.7136977443623025,\n",
       " 0.39380091440129894,\n",
       " 0.27678764551753676,\n",
       " -1.0896925447670167,\n",
       " -0.6407577984695273,\n",
       " -0.8739529801932787,\n",
       " -0.2128209637048493,\n",
       " 1.3248894879754236,\n",
       " -0.1168254348777894,\n",
       " -1.5083420666608611,\n",
       " -1.4111894969616403,\n",
       " 0.5553167329372332,\n",
       " -0.7223515557920541,\n",
       " 2.014371846870957,\n",
       " 1.578366025106636,\n",
       " -0.43268038675574577,\n",
       " 0.276301703530739,\n",
       " -0.49578713920441037,\n",
       " 0.5444671505224679,\n",
       " -0.3521203965594425,\n",
       " -0.19732246084027938,\n",
       " 2.1815018731090654,\n",
       " -0.5536810485891789,\n",
       " 0.4473351737666374,\n",
       " -0.8468724984834626,\n",
       " -1.3870932491013115,\n",
       " -0.1471084456093196,\n",
       " 0.3501208911219452,\n",
       " -0.5044121637769372,\n",
       " -2.693622724815855,\n",
       " -0.22986572771629826,\n",
       " -0.9710328784869793,\n",
       " 1.6991324049911465,\n",
       " 0.8517935089858701,\n",
       " 1.485307729420795,\n",
       " 0.3668986478003202,\n",
       " -0.8805007757624498,\n",
       " 0.7127208083526537,\n",
       " 0.12143949821979762,\n",
       " 0.874590006900984,\n",
       " -0.4271912198769493,\n",
       " -1.7339617498319138,\n",
       " 0.13900276090413088,\n",
       " -0.33641058562408366,\n",
       " -0.5827885246914581,\n",
       " -0.6073084589253328,\n",
       " 0.058300742968287925,\n",
       " 0.7076025370384992,\n",
       " 0.9201503643863126,\n",
       " -0.4754290118033621,\n",
       " 0.023643461199349954,\n",
       " -0.058511329342007146,\n",
       " 0.49332736666249516,\n",
       " -1.7680812274163724,\n",
       " 0.13781833602326476,\n",
       " 0.14005312864707833,\n",
       " -1.5167854589802854,\n",
       " 0.4763753896409935,\n",
       " 0.09918087351064005,\n",
       " -0.846130883998492,\n",
       " 0.3363434255447023,\n",
       " -0.465872131166427,\n",
       " 0.20797959429351082,\n",
       " 0.992667512109976,\n",
       " 1.9562192915899699,\n",
       " -1.2609819304235732,\n",
       " -1.233023912493938,\n",
       " -1.1141000438098234,\n",
       " -1.0367022297527073,\n",
       " 0.23402531631078213,\n",
       " 0.6874694028514671,\n",
       " 0.9139084531595906,\n",
       " -1.1514674291282243,\n",
       " 1.210392226331326,\n",
       " 0.24751422136505746,\n",
       " -0.23235396282878992,\n",
       " 0.7630636643426348,\n",
       " -0.9576451438765882,\n",
       " -0.0032297170920031946,\n",
       " 1.2314241431299835,\n",
       " 1.0932693691202977,\n",
       " 1.7655925482918349,\n",
       " 1.511608248145186,\n",
       " 0.23259684126353466,\n",
       " -1.8262698543280642,\n",
       " 1.18621386585524,\n",
       " 0.44875039334427297,\n",
       " 0.13025041684252103,\n",
       " 0.022956378612403266,\n",
       " -1.0713472872853236,\n",
       " 0.2002735409043122,\n",
       " -1.0931160412668,\n",
       " 0.9069386931952149,\n",
       " -1.513518979771815,\n",
       " -0.49769783799374984,\n",
       " 0.3017027455544667,\n",
       " 1.036110180910393,\n",
       " -0.3841487983431829,\n",
       " -0.6102671944053408,\n",
       " -0.7358886366439052,\n",
       " 0.7166615243612288,\n",
       " 1.6638283512849288,\n",
       " -1.4742988061396463,\n",
       " 0.9192685344199215,\n",
       " -1.3811260360696231,\n",
       " 1.426782813615852,\n",
       " 0.3438944540682517,\n",
       " -1.3421911659165793,\n",
       " -0.4389511082320107,\n",
       " 0.18798287436659908,\n",
       " -0.8087844926859631,\n",
       " 0.3030028756460227,\n",
       " -2.0678647092874756,\n",
       " -0.5132637296622365,\n",
       " -1.1495731382695067,\n",
       " -0.26602863575882557,\n",
       " -0.5612440662097764,\n",
       " 0.971423080904553,\n",
       " -0.802025989263205,\n",
       " 0.19689432585298025,\n",
       " 1.2782344313254295,\n",
       " -1.7674776668944385,\n",
       " -0.8088285440311617,\n",
       " -0.5673285907681486,\n",
       " -2.7018556076541946,\n",
       " 0.7513653970684535,\n",
       " 0.9842812494927572,\n",
       " 0.23360036889547967,\n",
       " 0.37467369708860726,\n",
       " 1.272728689145407,\n",
       " 0.0804813428956908,\n",
       " 1.2018464337376051,\n",
       " -0.10845280772959547,\n",
       " 0.23842367216238333,\n",
       " 1.018887233501395,\n",
       " 0.3201292117600954,\n",
       " -1.5191085040969647,\n",
       " -0.04394278864323378,\n",
       " -1.155640000209111,\n",
       " -0.03869282232367789,\n",
       " -0.6339623164049175,\n",
       " 0.5165273280830641,\n",
       " 0.6111821408174379,\n",
       " 0.2113915617943789,\n",
       " -0.4239011843980086,\n",
       " -0.3950603516109814,\n",
       " -1.1183091030452723,\n",
       " -0.48314024118763416,\n",
       " 0.6911517140631499,\n",
       " -1.6967960026046685,\n",
       " -0.03184993942625612,\n",
       " 0.7543246275875337,\n",
       " -1.1283494901081317,\n",
       " 0.08095478947194956,\n",
       " -0.8837534356802476,\n",
       " -1.2235970765548778,\n",
       " -0.3332998421218264,\n",
       " 1.3788654397527698,\n",
       " 0.5125884716592186,\n",
       " 0.40717411565644307,\n",
       " 1.128102320397661,\n",
       " -0.7866306755366208,\n",
       " -2.393998695817378,\n",
       " 0.5924024383270556,\n",
       " -0.07027354566654871,\n",
       " -1.225700460794663,\n",
       " -0.6508243666522984,\n",
       " 0.778084597428544,\n",
       " -0.8424042823120297,\n",
       " 0.560964580990618,\n",
       " -0.09241012394793643,\n",
       " -1.2582407093543277,\n",
       " 0.8095288036545238,\n",
       " -1.40971934342891,\n",
       " 0.2076964006863614,\n",
       " -0.49561468363606087,\n",
       " 1.4185186357439439,\n",
       " -0.08235383709851118,\n",
       " 0.294693051216122,\n",
       " -1.400593485809416,\n",
       " -0.6058207054276331,\n",
       " -0.5917083126200379,\n",
       " 1.7052726848959547,\n",
       " -0.2097935592754514,\n",
       " 0.44415940913549223,\n",
       " 0.548894117623184,\n",
       " 0.32098030152580653,\n",
       " -0.6576455746104279,\n",
       " 1.0948080438669343,\n",
       " 1.415614667731463,\n",
       " 0.48041523116338164,\n",
       " -0.17047232595985315,\n",
       " 2.318156449619287,\n",
       " 0.37479389522226486,\n",
       " -0.04264099929186773,\n",
       " -0.42169097869989974,\n",
       " -0.4292107527014843,\n",
       " -0.21333527821742154,\n",
       " 0.7840561735610916,\n",
       " 0.4951802850760185,\n",
       " -0.10893764411074727,\n",
       " 0.38400955702693945,\n",
       " 1.8264227616491497,\n",
       " 1.0302651518098893,\n",
       " -0.8286345718179411,\n",
       " 0.05805128648446057,\n",
       " 0.34119620230441666,\n",
       " 0.5158426990278951,\n",
       " -0.20542284684653261,\n",
       " 0.782671534327199,\n",
       " 0.7482661127478317,\n",
       " 0.5324396958893088,\n",
       " 1.7109518767097482,\n",
       " -0.5122056418537689,\n",
       " 0.31483067669227993,\n",
       " -0.972844827554827,\n",
       " 1.0017888048831332,\n",
       " 0.11134680609440518,\n",
       " -0.7474067690663427,\n",
       " 1.223015145130535,\n",
       " -0.13138182703275397,\n",
       " 1.8384487075608347,\n",
       " 0.12621773070906006,\n",
       " 0.3881739771880053,\n",
       " -0.19491395551478893,\n",
       " -0.0800273641597198,\n",
       " -0.0167507838559903,\n",
       " -0.9184483472366244,\n",
       " -2.1926181709002606,\n",
       " -1.9006870832065281,\n",
       " -0.6514128635492509,\n",
       " 1.3404862495899463,\n",
       " 1.5893643716300179,\n",
       " 1.7579508744941321,\n",
       " 0.9561790610289997,\n",
       " 1.7435294686056415,\n",
       " -0.7988030108352457,\n",
       " 1.0007631077811734,\n",
       " -0.1786746040464332,\n",
       " 0.4331309706836088,\n",
       " 0.03527529260827025,\n",
       " -0.2669128875288558,\n",
       " -1.1500345005636257,\n",
       " -2.0677533197647673,\n",
       " 0.20441230881976977,\n",
       " -0.055649346045043305,\n",
       " -0.5653315200447318,\n",
       " -1.0885587954002074,\n",
       " 1.0740218611372534,\n",
       " 1.3702575893093942,\n",
       " -1.2338379032268838,\n",
       " 0.6449473846559507,\n",
       " 0.7743546156613226,\n",
       " 1.5688342369893047,\n",
       " 1.0048591918212906,\n",
       " 1.3207416333683342,\n",
       " 0.5723590106260774,\n",
       " 0.7610426883153266,\n",
       " -1.9988361036550002,\n",
       " -0.28450125728357467,\n",
       " -1.6624806119542472,\n",
       " 0.9292170087095476,\n",
       " 0.5734656215910906,\n",
       " 2.0386915097093654,\n",
       " -0.8290193623909916,\n",
       " -0.15077189288012693,\n",
       " -0.36148127672334013,\n",
       " -0.8261075309339125,\n",
       " 0.1537770773412755,\n",
       " 0.08313095180494137,\n",
       " 1.9323059420104327,\n",
       " 1.0591394229447244,\n",
       " 1.0091150257943378,\n",
       " 0.7365731430020598,\n",
       " -1.2220638800007169,\n",
       " 0.08667225853715047,\n",
       " 0.7257551121301551,\n",
       " -1.6848460762612878,\n",
       " 0.3327729003935815,\n",
       " -0.4129222762605404,\n",
       " 0.5190631305102797,\n",
       " -0.33371336045947,\n",
       " -0.26365832570623743,\n",
       " 0.15407744112024727,\n",
       " 0.1949804986938992,\n",
       " -1.3498119669864015,\n",
       " 0.3502384304055831,\n",
       " -0.004942510307269615,\n",
       " -0.2736983370648452,\n",
       " 0.8871083049418897,\n",
       " -0.2984669609329022,\n",
       " 0.08100342373624655,\n",
       " 0.5909009502734793,\n",
       " -1.6509530125137966,\n",
       " -0.39821834170697773,\n",
       " -1.456913587666521,\n",
       " 0.8057317985582709,\n",
       " 0.7947515207187751,\n",
       " 0.324317468766824,\n",
       " -0.8512876067113433,\n",
       " -0.25811799106758454,\n",
       " -0.09726611604985581,\n",
       " -0.22089677489976822,\n",
       " -0.28721118776776394,\n",
       " 0.21169248177452213,\n",
       " 0.7099221520260482,\n",
       " 1.222096135822363,\n",
       " 0.47040012537753606,\n",
       " 1.225296610507994,\n",
       " 0.4282648493314478,\n",
       " -0.67278553079919,\n",
       " 1.431665745463695,\n",
       " 1.6882176984742228,\n",
       " 0.09793191785101786,\n",
       " -0.2445321926128016,\n",
       " -0.38123785257885356,\n",
       " 0.8611287845582594,\n",
       " -0.3457324232692931,\n",
       " -0.6589891662286753,\n",
       " -0.0021568227415939027,\n",
       " 0.9131196383653312,\n",
       " 0.3186524203731257,\n",
       " 0.5941369999690109,\n",
       " -0.49119116558593257,\n",
       " 0.6994512691678205,\n",
       " -0.23516915524715512,\n",
       " -0.046805692127815754,\n",
       " -0.9023990841714321,\n",
       " -0.20701495925902444,\n",
       " -0.5225526096221976,\n",
       " 0.03334914955817991,\n",
       " 1.6529413437061928,\n",
       " 0.828062276053391,\n",
       " -0.3876818374242745,\n",
       " 2.464116604417412,\n",
       " -0.337544926788994,\n",
       " 0.8776547327470056,\n",
       " -0.982531759835997,\n",
       " 1.4482238051723486,\n",
       " -0.8220319005428869,\n",
       " -0.4188566409782991,\n",
       " 0.7536938092025156,\n",
       " -0.4755519506594977,\n",
       " 0.8842356637566399,\n",
       " 1.296150188952054,\n",
       " -0.5831575293307448,\n",
       " -0.1551738582661659,\n",
       " -0.887127514730815,\n",
       " 0.0863732039329834,\n",
       " -0.47136139571457053,\n",
       " 0.38362200634493726,\n",
       " -0.28667894674367506,\n",
       " 1.4062765584190298,\n",
       " 0.8431181535042529,\n",
       " -0.5566262868223028,\n",
       " 1.5880937145283776,\n",
       " 0.20101883941208892,\n",
       " 0.9218309000585527,\n",
       " 0.7661922555807464,\n",
       " -0.6530825009353222,\n",
       " -0.015159728705985445,\n",
       " 0.9169759155432959,\n",
       " -1.5299423832619972,\n",
       " -0.7388082513841526,\n",
       " -1.09863406849661,\n",
       " 1.9568195541539333,\n",
       " 0.16543816674718714,\n",
       " 0.6357477223902,\n",
       " -0.8412720069696243,\n",
       " 0.01178923372576822,\n",
       " 0.19312539067371312,\n",
       " -0.6088305893260407,\n",
       " -0.6015509546758241,\n",
       " 0.45898659566850897,\n",
       " -1.4059250220783692,\n",
       " 0.942384248697299,\n",
       " -0.26551673791092917,\n",
       " 0.6637714766463094,\n",
       " 0.7529212334067346,\n",
       " 1.0448870177766363,\n",
       " 0.1922464444364262,\n",
       " 0.8063678363164772,\n",
       " 1.0138896976549647,\n",
       " 0.5507358117817339,\n",
       " -0.08609430676000152,\n",
       " -0.07092393053180898,\n",
       " -0.0002839177306710946,\n",
       " 0.36146099147429894,\n",
       " -1.6174447800139862,\n",
       " -0.06480560238127901,\n",
       " -0.5906422888426813,\n",
       " -0.12616635214899508,\n",
       " -1.087619673986021,\n",
       " 0.0837312672930379,\n",
       " -0.7308937446585806,\n",
       " -0.6225956291268405,\n",
       " 1.2100462466107127,\n",
       " 0.7268275876165806,\n",
       " -0.7256677853505712,\n",
       " -0.1416137389137249,\n",
       " -1.5183036398100436,\n",
       " -1.3027200016976683,\n",
       " 0.022291436334337437,\n",
       " 0.6587771254754419,\n",
       " 0.5147768705511898,\n",
       " 0.6998685760618123,\n",
       " -1.404050267420935,\n",
       " 0.42337678052273375,\n",
       " -0.1380459688400703,\n",
       " -1.1933956025565302,\n",
       " 0.9342930127856294,\n",
       " -0.26966385343635396,\n",
       " -0.8493537440199627,\n",
       " 0.5890430371439823,\n",
       " -0.645750501414623,\n",
       " -1.5782866962452906,\n",
       " -0.4795179788160338,\n",
       " 0.10411352503327137,\n",
       " 0.8394656924320301,\n",
       " -0.7781797245662454,\n",
       " -1.2334863216951089,\n",
       " 0.3565964995844048,\n",
       " -0.8224862769093918,\n",
       " 0.6380120034274738,\n",
       " -0.9022876862028404,\n",
       " 0.1458370272393045,\n",
       " 0.10435159006505754,\n",
       " 0.48123070378067573,\n",
       " 0.7203831472474977,\n",
       " -1.002402463018634,\n",
       " 0.25995701922491377,\n",
       " 0.46240996107537113,\n",
       " 0.3190176688673369,\n",
       " -0.4809263724125513,\n",
       " 0.30672903467200885,\n",
       " -0.4977990643117273,\n",
       " 0.4570405853374984,\n",
       " -1.1540478013568847,\n",
       " 1.7698588990506563,\n",
       " -0.5479879138426347,\n",
       " -1.0600579687329614,\n",
       " 0.24065238164259684,\n",
       " 0.12191480289361872,\n",
       " -0.3021902026961749,\n",
       " -0.5075947963045179,\n",
       " 0.3162033217512465,\n",
       " -0.023782424301079092,\n",
       " -1.146080373393493,\n",
       " -0.684762930947163,\n",
       " 0.5474883067049175,\n",
       " -0.20398143055109721,\n",
       " -1.2389249700121017,\n",
       " 0.10824368225617913,\n",
       " 0.9866114885620831,\n",
       " 0.2766504692496896,\n",
       " 2.138736744315299,\n",
       " 0.3356820410056007,\n",
       " -0.2116393121822392,\n",
       " -1.0493582210679246,\n",
       " -1.587431888905843,\n",
       " -1.9514794911393936,\n",
       " 2.123486926252738,\n",
       " -0.7624985797629364,\n",
       " 0.13447815523303414,\n",
       " 0.08395412028131098,\n",
       " 0.12538759763731486,\n",
       " -0.20186402576680434,\n",
       " 1.5638589516630885,\n",
       " 0.8523340428704936,\n",
       " 1.6734479853035404,\n",
       " 0.31111149040269276,\n",
       " -1.358943518693154,\n",
       " -1.5241321541180326,\n",
       " -0.9651003692786261,\n",
       " -0.4154445905110472,\n",
       " 0.15997654547960624,\n",
       " 1.699078646593674,\n",
       " -0.6798301497716067,\n",
       " 0.7665997402309807,\n",
       " 1.5612832483415293,\n",
       " 0.7571729997665814,\n",
       " 1.0163924885314695,\n",
       " 1.3810941137308725,\n",
       " 0.5318796889664524,\n",
       " -1.001075108995715,\n",
       " -1.189057359650622,\n",
       " -0.2671181204925065,\n",
       " 1.294885573232571,\n",
       " 0.20980668049331763,\n",
       " -2.1627290642081225,\n",
       " -0.8010249554405184,\n",
       " -1.6068198989686562,\n",
       " 0.2524721424383062,\n",
       " -1.6598577894197457,\n",
       " 0.663783391245077,\n",
       " 1.6412327644096008,\n",
       " -1.7146489381733516,\n",
       " -1.0898797320546667,\n",
       " 0.503010666854886,\n",
       " -0.7709520076680337,\n",
       " 0.596498327566933,\n",
       " -1.9470128049108282,\n",
       " 0.1591174131066695,\n",
       " -1.2358319526548933,\n",
       " 0.5960869763401898,\n",
       " 1.1167568448489724,\n",
       " 0.33731084357228336,\n",
       " 1.5798400347739245,\n",
       " -0.6765075777089149,\n",
       " -0.2156208962680693,\n",
       " 0.5310487171281489,\n",
       " 0.5189576749304603,\n",
       " 0.7802160829491946,\n",
       " 1.4662046553229438,\n",
       " 0.3364802608050744,\n",
       " -2.257843254193926,\n",
       " 2.111370261619509,\n",
       " -1.0609755193868886,\n",
       " 0.038999957130378717,\n",
       " 0.07258415151595651,\n",
       " 0.12854239650566407,\n",
       " 0.2793179296841252,\n",
       " 1.2252111581385694,\n",
       " -1.026901371784416,\n",
       " -0.6623534776284543,\n",
       " -2.2285858121875943,\n",
       " -1.165850496559061,\n",
       " -0.49995600741700486,\n",
       " -1.0547844204944845,\n",
       " -0.580518994706603,\n",
       " -1.0138815724112045,\n",
       " -0.28093127456993366,\n",
       " -1.2324687392517786,\n",
       " -0.5522025666805771,\n",
       " -0.5586559024789536,\n",
       " 0.975690858412448,\n",
       " -0.7967468544308055,\n",
       " -1.5403886326938256,\n",
       " -0.253285041074851,\n",
       " 0.3884518106460486,\n",
       " -0.4879020331859522,\n",
       " -0.5687702998697393,\n",
       " -1.0271991978445738,\n",
       " -0.9765318066945115,\n",
       " -0.592251640464518,\n",
       " 0.49641598739321496,\n",
       " 0.7140655231445067,\n",
       " 0.31084662268244856,\n",
       " -0.9894051561686715,\n",
       " 0.04079624997960197,\n",
       " -0.05488736798913563,\n",
       " -0.5084955361946852,\n",
       " 0.9334640203983434,\n",
       " -0.5904425427713138,\n",
       " 0.5771025101668364,\n",
       " -0.9750947051344093,\n",
       " 1.795451056287884,\n",
       " -0.7791557467254044,\n",
       " 0.3961174355064355,\n",
       " 0.9235101198468685,\n",
       " 0.20608181004580012,\n",
       " 0.5086142051738344,\n",
       " -1.5976528813048363,\n",
       " -1.5912870625859061,\n",
       " 0.9956703347323029,\n",
       " 0.09325115760800813,\n",
       " -0.44796147711658624,\n",
       " 0.362002149051224,\n",
       " -0.8356707734984345,\n",
       " -0.06048270781874883,\n",
       " 0.2122630697312612,\n",
       " -0.8801699587740003,\n",
       " 0.38810381408279265,\n",
       " -0.6668555115632833,\n",
       " -0.21214155260478973,\n",
       " -2.2441803585515308,\n",
       " 0.645075283831916,\n",
       " -0.35371576107677904,\n",
       " -0.03622521019303954,\n",
       " -0.32788032016452096,\n",
       " -0.7563353115123072,\n",
       " 1.436052008908331,\n",
       " -0.6302423598105861,\n",
       " 1.5349775017521121,\n",
       " 1.109380930305453,\n",
       " -0.6014710012207755,\n",
       " 0.5511080189647045,\n",
       " 1.5635803518909959,\n",
       " 0.6475045253500303,\n",
       " 0.46212766778609626,\n",
       " 1.8551567422942368,\n",
       " -0.18455049265792972,\n",
       " -1.1596738781172942,\n",
       " 0.3547296506877619,\n",
       " -0.15627538189942394,\n",
       " -2.1853111698301846,\n",
       " 0.5467308999708766,\n",
       " -0.07434750569617998,\n",
       " -0.15253949952259416,\n",
       " 0.10976290229591787,\n",
       " -0.25154929266117937,\n",
       " -0.4098140108253378,\n",
       " -0.7416156243908046,\n",
       " 1.1025911125466652,\n",
       " -0.7125216309071074,\n",
       " -0.3497391120514701,\n",
       " -1.1892521161611669,\n",
       " -1.6929215383789047,\n",
       " 0.085829499665635,\n",
       " -0.1661916906834934,\n",
       " -0.250208757066375,\n",
       " 0.7098720642776629,\n",
       " 0.6898122024115935,\n",
       " -0.06706230394506509,\n",
       " 1.2029780350461494,\n",
       " -1.7410395512536285,\n",
       " -1.4007402877376265,\n",
       " -0.07272686579135144,\n",
       " 1.0107071583029406,\n",
       " -1.2285222850311177,\n",
       " 2.256171702676455,\n",
       " 1.0997253863708292,\n",
       " -0.6460627139970502,\n",
       " 0.2984126586210075,\n",
       " -1.9897232533729248,\n",
       " -1.4720101989062724,\n",
       " 1.9361412284097381,\n",
       " -0.6398650607957117,\n",
       " -0.9501432322922184,\n",
       " -2.3976766818794295,\n",
       " 0.05612713099062004,\n",
       " -0.015560017138813026,\n",
       " 0.04889907812517021,\n",
       " -0.5410485390691123,\n",
       " 1.7168833287838428,\n",
       " 0.1921223333172559,\n",
       " -0.6377640269620319,\n",
       " -0.9414707825589888,\n",
       " 1.5698872098165584,\n",
       " 1.9767683471361654,\n",
       " 2.291159312551614,\n",
       " 0.9437027165520819,\n",
       " 0.0774788559959342,\n",
       " 0.5842605235296251,\n",
       " -1.2793496225400098,\n",
       " 1.1540593787281646,\n",
       " -0.4770075429761213,\n",
       " -0.4112772982478723,\n",
       " 0.8807611045878803,\n",
       " 0.677273171898337,\n",
       " 0.789845962942226,\n",
       " 0.23777971350476834,\n",
       " 1.8585537173113986,\n",
       " -0.4073810787254293,\n",
       " 1.4595559575360435,\n",
       " 0.4234629637089712,\n",
       " -0.05329134769768449,\n",
       " 0.6755448123301615,\n",
       " -2.0258452311190402,\n",
       " -0.5678347768242615,\n",
       " -0.42419904274944265,\n",
       " -0.9654247038303208,\n",
       " -1.0600602726148995,\n",
       " 0.5570461100532463,\n",
       " -0.10014051177887559,\n",
       " -0.6307846288047869,\n",
       " 0.11226602316727806,\n",
       " -0.0950383999870839,\n",
       " -0.5465019388848391,\n",
       " -1.6729868892928677,\n",
       " -0.09401938739576027,\n",
       " 0.4159306579545502,\n",
       " 1.3521108343652202,\n",
       " 1.6134024021074993,\n",
       " -0.7635464762456617,\n",
       " 0.15284946262168755,\n",
       " -1.216167929473066,\n",
       " 0.39316852254321444,\n",
       " -0.3025332692879437,\n",
       " -0.9117711688326073,\n",
       " 1.332511379780072,\n",
       " -0.759432262726323,\n",
       " 1.132257281593419,\n",
       " 0.10607901122840377,\n",
       " -0.9673486464728552,\n",
       " -0.3918850963651586,\n",
       " 0.18094317362253892,\n",
       " 0.861793951619129,\n",
       " -1.5759571378578712,\n",
       " -0.8388343606388333,\n",
       " -0.5794326166776216,\n",
       " 0.5510406627510585,\n",
       " -0.14705153055159834,\n",
       " -0.11408159724740538,\n",
       " 0.0661201396594177,\n",
       " 0.3604903353585462,\n",
       " 0.059272577916974024,\n",
       " 0.5792384213816129,\n",
       " 0.7626892688546988,\n",
       " -2.060317712786144,\n",
       " -0.7226081482110779,\n",
       " -0.463254754004427,\n",
       " 0.5412680970357917,\n",
       " -0.1673507751771317,\n",
       " -0.2919530730302297,\n",
       " 0.48092545074296006,\n",
       " 0.37319260235116225,\n",
       " -0.8701319847669104,\n",
       " -0.5312030707857169,\n",
       " -1.8729560880953198,\n",
       " 0.1518223679581879,\n",
       " -0.3813286182495789,\n",
       " -0.41800266949748016,\n",
       " -1.7556823997263362,\n",
       " -1.0563665061248166,\n",
       " -0.27664528043999775,\n",
       " 0.56356834762017,\n",
       " -0.9276113844172048,\n",
       " -0.2177671120998079,\n",
       " -0.7652355374819599,\n",
       " 1.5833687331558344,\n",
       " 0.5723705396359616,\n",
       " -1.3089795858408155,\n",
       " -0.9306157989477205,\n",
       " -1.1888395860841319,\n",
       " 0.8339238253057536,\n",
       " -0.5053825047577021,\n",
       " 1.1844893487866184,\n",
       " 2.135800949280996,\n",
       " 0.42682223614072395,\n",
       " 0.7149746406410161,\n",
       " 0.6287124915018906,\n",
       " -0.7708275922276154,\n",
       " -0.8457204453765612,\n",
       " 0.06580161933519807,\n",
       " 2.154512964483618,\n",
       " 0.12510553117732004,\n",
       " -0.5595458711627957,\n",
       " -0.565065251394898,\n",
       " -0.7605104131281165,\n",
       " 0.058593328124739635,\n",
       " 0.8757534648608214,\n",
       " -0.17620185531056826,\n",
       " -1.68163466552531,\n",
       " -0.6458631007487016,\n",
       " -0.4363955205535703,\n",
       " -0.8228894175201036,\n",
       " -0.6994112103578827,\n",
       " 1.2756753548652542,\n",
       " 1.3802578875967064,\n",
       " 1.4430586936538985,\n",
       " 0.662296640146975,\n",
       " -0.38102709474977225,\n",
       " -0.36524681235200124,\n",
       " 0.0003070090009365468,\n",
       " 0.6744095550120893,\n",
       " -1.010164547344177,\n",
       " -1.556567948577978,\n",
       " -0.4011265198144374,\n",
       " -1.2960008916800971,\n",
       " 0.8511395638581973,\n",
       " -1.5630700098591241,\n",
       " -0.07224302057408402,\n",
       " 1.0690701064559927,\n",
       " -0.03410165020876519,\n",
       " -0.3228799006026898,\n",
       " 0.2048816901808694,\n",
       " -0.7609495800972816,\n",
       " 0.5769969976447222,\n",
       " 2.3629497796660766,\n",
       " 0.13763447837367165,\n",
       " -0.20951742361807416,\n",
       " -0.2416065721341883,\n",
       " 0.015292295228244662,\n",
       " 0.29861217397634865,\n",
       " -1.8989304961570657,\n",
       " -0.3421386876377973,\n",
       " 0.6383555488889516,\n",
       " 0.37182409439409575,\n",
       " -0.1700393470539196,\n",
       " -1.4045206411199107,\n",
       " 0.7288648393787396,\n",
       " 0.08506643301410667,\n",
       " 0.48771824040257056,\n",
       " -0.36638520060013735,\n",
       " -0.2591515008640557,\n",
       " -0.07689363081810932,\n",
       " -2.5177778952361223,\n",
       " 0.2217259541761765,\n",
       " -0.5042393859640458,\n",
       " 0.2391232115149605,\n",
       " 0.3361850839368659,\n",
       " -0.11198377018108922,\n",
       " -1.2692518694974433,\n",
       " -0.6082811340851729,\n",
       " 0.4087963872068652,\n",
       " 0.6802807068183799,\n",
       " -1.6580039764904897,\n",
       " -0.7605988264803837,\n",
       " -0.47663699608014565,\n",
       " 0.48342557049965945,\n",
       " -1.3887285380938883,\n",
       " 0.2006798332514754,\n",
       " -0.626083403762113,\n",
       " 0.3476403713959888,\n",
       " -0.6539312862835812,\n",
       " 1.0202537912430865,\n",
       " 1.1717463431209343,\n",
       " -0.9892250478813983,\n",
       " -0.3637616160499393,\n",
       " -0.4841798590325385,\n",
       " 3.0787263612127163,\n",
       " 0.1840719856341747,\n",
       " 0.2270631662673331,\n",
       " 2.3647914314826455,\n",
       " 0.929638514332502,\n",
       " 1.4888019604623008,\n",
       " 0.3348674301151856,\n",
       " -0.8408765786498081,\n",
       " -0.2405444568190712,\n",
       " 0.048851540743382355,\n",
       " -2.0133549895619343,\n",
       " -0.15442881242515455,\n",
       " 1.3495754990936717,\n",
       " 0.09465847544425587,\n",
       " -1.2689303957704632,\n",
       " -0.8626340029429296,\n",
       " 1.053715967729563,\n",
       " 0.3877332927022151,\n",
       " 0.8291271515040818,\n",
       " 1.9160079932214886,\n",
       " 0.47539843255064673,\n",
       " -1.2690874377561194,\n",
       " -0.037421988685258006,\n",
       " 2.0415179523515117,\n",
       " 0.7917629953141129,\n",
       " -1.985003550769648,\n",
       " -0.09459234656596323,\n",
       " 0.3752470006005871,\n",
       " -1.5691190366303307,\n",
       " -1.3990396674837489,\n",
       " -0.48144801416615374,\n",
       " 1.9993428497412273,\n",
       " 2.3121484671179586,\n",
       " 0.4470725827689014,\n",
       " 1.0052419708759688,\n",
       " -0.1279317491564426,\n",
       " 0.8834835034118319,\n",
       " 1.202538767514178,\n",
       " -0.2788528694122299,\n",
       " -1.3200645383120386,\n",
       " -2.2757421308367003,\n",
       " -0.6509616933379949,\n",
       " 0.629602157574969,\n",
       " -1.1569338715683943,\n",
       " 0.733142597548453,\n",
       " -0.26695473820944765,\n",
       " 0.5252901303844267,\n",
       " -1.0328962694733343,\n",
       " -1.3577757849148502,\n",
       " -1.2381604604743617,\n",
       " 0.8680779602585975,\n",
       " -1.0623788060101826,\n",
       " 0.23884483193282002,\n",
       " -0.490789369438077,\n",
       " -1.8763245620144346,\n",
       " -0.8994586837212869,\n",
       " -0.189138959246973,\n",
       " -1.0394004426643086,\n",
       " -0.17478192339420207,\n",
       " -0.8126542676611178,\n",
       " -0.06699742783319168,\n",
       " -0.13520427831953155,\n",
       " -0.7290969720541645,\n",
       " -1.1645547728348005,\n",
       " 0.7876432304245173,\n",
       " ...]"
      ]
     },
     "execution_count": 124,
     "metadata": {},
     "output_type": "execute_result"
    }
   ],
   "source": [
    "samples"
   ]
  },
  {
   "cell_type": "code",
   "execution_count": 125,
   "id": "4d32c499",
   "metadata": {},
   "outputs": [
    {
     "name": "stdout",
     "output_type": "stream",
     "text": [
      "4.53 ms ± 109 µs per loop (mean ± std. dev. of 7 runs, 100 loops each)\n"
     ]
    }
   ],
   "source": [
    "%timeit np.random.normal(size=n)"
   ]
  },
  {
   "cell_type": "code",
   "execution_count": 127,
   "id": "45a367c9",
   "metadata": {},
   "outputs": [],
   "source": [
    "from random import normalvariate\n",
    "samples = np.random.normal(size=(4,4))"
   ]
  },
  {
   "cell_type": "code",
   "execution_count": 129,
   "id": "95e547bb",
   "metadata": {},
   "outputs": [
    {
     "name": "stdout",
     "output_type": "stream",
     "text": [
      "[[-0.7318688   1.37120734  1.78139023  0.54517   ]\n",
      " [-2.35943679  0.8440868   0.79802201  0.5284577 ]\n",
      " [-1.82715085  1.79479359 -0.18888771  0.63202547]\n",
      " [ 0.00399146  0.26846226 -0.57822103 -0.83893794]]\n"
     ]
    }
   ],
   "source": [
    "print(samples)"
   ]
  },
  {
   "cell_type": "code",
   "execution_count": 131,
   "id": "21377f39",
   "metadata": {},
   "outputs": [],
   "source": [
    "from random import normalvariate\n",
    "n = 100000\n",
    "sample = [normalvariate(0,1) for _ in range(n)]"
   ]
  },
  {
   "cell_type": "code",
   "execution_count": 132,
   "id": "55864712",
   "metadata": {},
   "outputs": [
    {
     "data": {
      "text/plain": [
       "array([ 0.65232297,  1.05287432,  0.41969434, ...,  0.52001987,\n",
       "       -0.30598972,  0.60830721])"
      ]
     },
     "execution_count": 132,
     "metadata": {},
     "output_type": "execute_result"
    }
   ],
   "source": [
    "np.random.normal(size=n)"
   ]
  },
  {
   "cell_type": "code",
   "execution_count": 135,
   "id": "f7bf6ee1",
   "metadata": {},
   "outputs": [],
   "source": [
    "rng = np.random.RandomState(1234)"
   ]
  },
  {
   "cell_type": "code",
   "execution_count": 139,
   "id": "4c2ef30e",
   "metadata": {},
   "outputs": [
    {
     "name": "stdout",
     "output_type": "stream",
     "text": [
      "[[-0.20264632 -0.65596934  0.19342138]\n",
      " [ 0.55343891  1.31815155 -0.46930528]\n",
      " [ 0.67555409 -1.81702723 -0.18310854]]\n"
     ]
    }
   ],
   "source": [
    "print(rng.randn(9).reshape(3,3))"
   ]
  },
  {
   "cell_type": "markdown",
   "id": "03d0eea2",
   "metadata": {},
   "source": [
    "# 4.7 Example: Random Walks"
   ]
  },
  {
   "cell_type": "code",
   "execution_count": 150,
   "id": "b17f5f28",
   "metadata": {},
   "outputs": [],
   "source": [
    "import random\n",
    "position = 0\n",
    "walk = [position]\n",
    "step = 1000\n",
    "for i in range(steps):\n",
    "    step = 1 if random.randint(0, 1) else -1\n",
    "    position +=step\n",
    "    walk.append(position)"
   ]
  },
  {
   "cell_type": "code",
   "execution_count": 151,
   "id": "2b69957c",
   "metadata": {},
   "outputs": [
    {
     "data": {
      "text/plain": [
       "[<matplotlib.lines.Line2D at 0x24170f615b0>]"
      ]
     },
     "execution_count": 151,
     "metadata": {},
     "output_type": "execute_result"
    },
    {
     "data": {
      "image/png": "[encoded data removed]",
      "text/plain": [
       "<Figure size 432x288 with 1 Axes>"
      ]
     },
     "metadata": {
      "needs_background": "light"
     },
     "output_type": "display_data"
    }
   ],
   "source": [
    "plt.plot(walk[:100])"
   ]
  },
  {
   "cell_type": "code",
   "execution_count": 153,
   "id": "9ae71ca1",
   "metadata": {},
   "outputs": [],
   "source": [
    "import random\n",
    "positon = 0\n",
    "walk = [position]\n",
    "steps = 1000\n",
    " \n",
    "for i in range(steps):\n",
    "    step = 1 if random.randint(0, 1) else -1\n",
    "    position += step\n",
    "    walk.append(position)"
   ]
  },
  {
   "cell_type": "code",
   "execution_count": 166,
   "id": "49bc3c35",
   "metadata": {},
   "outputs": [
    {
     "data": {
      "text/plain": [
       "Text(0.5, 1.0, 'Random walk')"
      ]
     },
     "execution_count": 166,
     "metadata": {},
     "output_type": "execute_result"
    },
    {
     "data": {
      "image/png": "[encoded data removed]",
      "text/plain": [
       "<Figure size 432x288 with 1 Axes>"
      ]
     },
     "metadata": {
      "needs_background": "light"
     },
     "output_type": "display_data"
    }
   ],
   "source": [
    "plt.plot(walk[:100],'r')\n",
    "plt.title('Random walk',fontsize=20)"
   ]
  },
  {
   "cell_type": "code",
   "execution_count": 176,
   "id": "23cb93fc",
   "metadata": {},
   "outputs": [],
   "source": [
    "import random\n",
    "position = 0\n",
    "walk = [position]\n",
    "steps = 1000\n",
    "\n",
    "for i in range(steps):\n",
    "    step = 1 if random.randint(0, 1) else -1\n",
    "    position += step\n",
    "    walk.append(position)"
   ]
  },
  {
   "cell_type": "code",
   "execution_count": 179,
   "id": "b7434dd7",
   "metadata": {},
   "outputs": [
    {
     "data": {
      "text/plain": [
       "-5"
      ]
     },
     "execution_count": 179,
     "metadata": {},
     "output_type": "execute_result"
    }
   ],
   "source": [
    "nsteps = 1000\n",
    "draws = np.random.randint(0, 2, size=nsteps)\n",
    "steps = np.where(draws > 0, 1, -1)\n",
    "walk = steps.cumsum()\n",
    "walk.min()\n"
   ]
  },
  {
   "cell_type": "code",
   "execution_count": 180,
   "id": "3df4fbfd",
   "metadata": {},
   "outputs": [
    {
     "data": {
      "text/plain": [
       "42"
      ]
     },
     "execution_count": 180,
     "metadata": {},
     "output_type": "execute_result"
    }
   ],
   "source": [
    "walk.max()"
   ]
  },
  {
   "cell_type": "code",
   "execution_count": 181,
   "id": "d4418ce2",
   "metadata": {},
   "outputs": [],
   "source": [
    "#simulating random walks"
   ]
  },
  {
   "cell_type": "code",
   "execution_count": 200,
   "id": "9af19dc8",
   "metadata": {},
   "outputs": [],
   "source": [
    "nwalks = 5000\n",
    "nsteps = 1000\n"
   ]
  },
  {
   "cell_type": "code",
   "execution_count": 201,
   "id": "4be44dfd",
   "metadata": {},
   "outputs": [],
   "source": [
    "draws = np.random.randint(0, 2, size=(nwalks, nsteps))\n",
    "steps = np.where(draws > 0, 1, -1)\n",
    "walks = steps.cumsum(1)"
   ]
  },
  {
   "cell_type": "code",
   "execution_count": 206,
   "id": "fa47163d",
   "metadata": {},
   "outputs": [
    {
     "data": {
      "text/plain": [
       "-131"
      ]
     },
     "execution_count": 206,
     "metadata": {},
     "output_type": "execute_result"
    }
   ],
   "source": [
    "walks.min()"
   ]
  },
  {
   "cell_type": "code",
   "execution_count": 207,
   "id": "4ac65be2",
   "metadata": {},
   "outputs": [
    {
     "data": {
      "text/plain": [
       "114"
      ]
     },
     "execution_count": 207,
     "metadata": {},
     "output_type": "execute_result"
    }
   ],
   "source": [
    "walks.max()"
   ]
  },
  {
   "cell_type": "code",
   "execution_count": 208,
   "id": "687380b8",
   "metadata": {},
   "outputs": [],
   "source": [
    "hits30 = (np.abs(walks) >= 30 ).any(1)"
   ]
  },
  {
   "cell_type": "code",
   "execution_count": 209,
   "id": "22528eed",
   "metadata": {},
   "outputs": [
    {
     "data": {
      "text/plain": [
       "array([ True, False,  True, ..., False,  True, False])"
      ]
     },
     "execution_count": 209,
     "metadata": {},
     "output_type": "execute_result"
    }
   ],
   "source": [
    "hits30"
   ]
  },
  {
   "cell_type": "code",
   "execution_count": null,
   "id": "04162b99",
   "metadata": {},
   "outputs": [],
   "source": []
  }
 ],
 "metadata": {
  "kernelspec": {
   "display_name": "Python 3",
   "language": "python",
   "name": "python3"
  },
  "language_info": {
   "codemirror_mode": {
    "name": "ipython",
    "version": 3
   },
   "file_extension": ".py",
   "mimetype": "text/x-python",
   "name": "python",
   "nbconvert_exporter": "python",
   "pygments_lexer": "ipython3",
   "version": "3.8.8"
  }
 },
 "nbformat": 4,
 "nbformat_minor": 5
}
